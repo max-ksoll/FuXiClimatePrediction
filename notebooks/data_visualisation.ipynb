{
 "cells": [
  {
   "cell_type": "code",
   "execution_count": 1,
   "id": "initial_id",
   "metadata": {
    "collapsed": true,
    "ExecuteTime": {
     "end_time": "2024-06-24T16:41:21.971771Z",
     "start_time": "2024-06-24T16:41:20.651036Z"
    }
   },
   "outputs": [],
   "source": [
    "import cartopy.crs as ccrs\n",
    "import cv2\n",
    "import matplotlib.pyplot as plt\n",
    "import numpy as np\n",
    "\n",
    "from src.Dataset.create_data import DataBuilder\n",
    "from src.Dataset.fuxi_dataset import FuXiDataset"
   ]
  },
  {
   "cell_type": "code",
   "outputs": [],
   "source": [
    "start_year = 1958\n",
    "end_year = 1958\n",
    "data_dir = \"/Users/ksoll/git/FuXiClimatePrediction/data\"\n",
    "\n",
    "builder = DataBuilder(data_dir, start_year, end_year)\n",
    "builder.generate_data()"
   ],
   "metadata": {
    "collapsed": false,
    "ExecuteTime": {
     "end_time": "2024-06-24T16:41:47.125813Z",
     "start_time": "2024-06-24T16:41:21.973414Z"
    }
   },
   "id": "789efc34536dfb05",
   "execution_count": 2
  },
  {
   "cell_type": "code",
   "outputs": [],
   "source": [
    "ds = FuXiDataset(\n",
    "    dataset_path='/Users/ksoll/git/FuXiClimatePrediction/data/1958_1958.zarr',\n",
    "    means_file='/Users/ksoll/git/FuXiClimatePrediction/data/mean_1958_1958.zarr'\n",
    ")"
   ],
   "metadata": {
    "collapsed": false,
    "ExecuteTime": {
     "end_time": "2024-06-24T16:41:47.132786Z",
     "start_time": "2024-06-24T16:41:47.126367Z"
    }
   },
   "id": "d7136ee0745acfc3",
   "execution_count": 3
  },
  {
   "cell_type": "code",
   "outputs": [],
   "source": [
    "fps = 20\n",
    "frame_size = (1920, 1080)"
   ],
   "metadata": {
    "collapsed": false,
    "ExecuteTime": {
     "end_time": "2024-06-24T16:41:47.134860Z",
     "start_time": "2024-06-24T16:41:47.133188Z"
    }
   },
   "id": "e01d88517df17919",
   "execution_count": 4
  },
  {
   "cell_type": "code",
   "outputs": [],
   "source": [
    "def get_variable_data():\n",
    "    data = np.zeros((len(ds), 35, 121, 240))\n",
    "    for idx, item in enumerate(iter(ds)):\n",
    "        data[idx, :, :, :] = item[0][0, :, :, :]\n",
    "    return data"
   ],
   "metadata": {
    "collapsed": false,
    "ExecuteTime": {
     "end_time": "2024-06-24T16:41:47.138554Z",
     "start_time": "2024-06-24T16:41:47.136849Z"
    }
   },
   "id": "861134db6fbcd4e5",
   "execution_count": 5
  },
  {
   "cell_type": "code",
   "outputs": [],
   "source": [
    "def plot_data(data, var_idx, time_idx):\n",
    "    data = data[time_idx][var_idx]\n",
    "    fig, ax = plt.subplots(figsize=(12, 8), subplot_kw={'projection': ccrs.PlateCarree()})\n",
    "    ax.coastlines()\n",
    "    lons = np.linspace(-180, 180, data.shape[1])\n",
    "    lats = np.linspace(-90, 90, data.shape[0])\n",
    "    im = ax.pcolormesh(lons, lats, data, transform=ccrs.PlateCarree(), shading='auto')\n",
    "    plt.colorbar(im, ax=ax, orientation='vertical')\n",
    "    name, level = ds.get_var_name_and_level_at_idx(var_idx)\n",
    "    ax.set_title(f'Var: {name} at Level: {level} at Time idx: {time_idx}')\n",
    "    fig.canvas.draw()\n",
    "    data = np.frombuffer(fig.canvas.buffer_rgba(), dtype=np.uint8)\n",
    "    data = data.reshape(fig.canvas.get_width_height()[::-1] + (4,))\n",
    "    data = cv2.cvtColor(data, cv2.COLOR_RGBA2BGR)\n",
    "    plt.close(fig)\n",
    "    return data"
   ],
   "metadata": {
    "collapsed": false,
    "ExecuteTime": {
     "end_time": "2024-06-24T16:41:47.141904Z",
     "start_time": "2024-06-24T16:41:47.139852Z"
    }
   },
   "id": "f783211e059e8729",
   "execution_count": 6
  },
  {
   "cell_type": "code",
   "outputs": [],
   "source": [
    "path = f\"/Users/ksoll/git/FuXiClimatePrediction/data-viz/all.mp4\"\n",
    "out = cv2.VideoWriter(path, cv2.VideoWriter_fourcc(*'mp4v'), fps, frame_size)\n",
    "data = get_variable_data()\n",
    "for var_idx in range(35):\n",
    "    for time_idx in range(len(ds)):\n",
    "        im = plot_data(data, var_idx, time_idx)\n",
    "        bild_resized = cv2.resize(im, frame_size)\n",
    "        out.write(bild_resized)\n",
    "out.release()"
   ],
   "metadata": {
    "collapsed": false,
    "ExecuteTime": {
     "end_time": "2024-06-24T16:43:06.963160Z",
     "start_time": "2024-06-24T16:41:47.142247Z"
    }
   },
   "id": "e75f1fc43ff25a33",
   "execution_count": 7
  }
 ],
 "metadata": {
  "kernelspec": {
   "display_name": "Python 3",
   "language": "python",
   "name": "python3"
  },
  "language_info": {
   "codemirror_mode": {
    "name": "ipython",
    "version": 2
   },
   "file_extension": ".py",
   "mimetype": "text/x-python",
   "name": "python",
   "nbconvert_exporter": "python",
   "pygments_lexer": "ipython2",
   "version": "2.7.6"
  }
 },
 "nbformat": 4,
 "nbformat_minor": 5
}
