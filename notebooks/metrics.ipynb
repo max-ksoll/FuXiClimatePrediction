{
 "cells": [
  {
   "cell_type": "code",
   "execution_count": 1,
   "id": "initial_id",
   "metadata": {
    "collapsed": true,
    "ExecuteTime": {
     "end_time": "2024-04-09T12:23:51.721754Z",
     "start_time": "2024-04-09T12:23:51.087540Z"
    }
   },
   "outputs": [],
   "source": [
    "import torch\n",
    "import zarr\n",
    "import numpy as np\n",
    "from src.era5_dataset import ERA5Dataset, TimeMode\n",
    "import os\n",
    "import dotenv\n",
    "\n",
    "dotenv.load_dotenv()"
   ]
  },
  {
   "cell_type": "code",
   "outputs": [],
   "source": [
    "store = zarr.DirectoryStore(os.environ.get(\"DATAFOLDER\"))\n",
    "sources = zarr.group(store=store)"
   ],
   "metadata": {
    "collapsed": false
   },
   "id": "b4e1f51efc4a4f26"
  },
  {
   "cell_type": "code",
   "outputs": [],
   "source": [
    "start_idx = 0\n",
    "end_idx = 10\n",
    "\n",
    "sources = sources[start_idx:end_idx]\n",
    "\n",
    "np.stack([\n",
    "    self.sources[self.dim_names[0]][idx_t],\n",
    "    self.sources[self.dim_names[1]][idx_t],\n",
    "    self.sources[self.dim_names[2]][idx_t],\n",
    "    self.sources[self.dim_names[3]][idx_t],\n",
    "    self.sources[self.dim_names[4]][idx_t],\n",
    "], 1, )"
   ],
   "metadata": {
    "collapsed": false
   },
   "id": "178173120092744e"
  }
 ],
 "metadata": {
  "kernelspec": {
   "display_name": "Python 3",
   "language": "python",
   "name": "python3"
  },
  "language_info": {
   "codemirror_mode": {
    "name": "ipython",
    "version": 2
   },
   "file_extension": ".py",
   "mimetype": "text/x-python",
   "name": "python",
   "nbconvert_exporter": "python",
   "pygments_lexer": "ipython2",
   "version": "2.7.6"
  }
 },
 "nbformat": 4,
 "nbformat_minor": 5
}
