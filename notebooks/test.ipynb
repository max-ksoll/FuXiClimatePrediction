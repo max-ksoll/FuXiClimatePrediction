{
 "cells": [
  {
   "cell_type": "code",
   "execution_count": 27,
   "id": "initial_id",
   "metadata": {
    "collapsed": true,
    "ExecuteTime": {
     "end_time": "2024-04-05T21:50:16.546349Z",
     "start_time": "2024-04-05T21:50:16.104428Z"
    }
   },
   "outputs": [
    {
     "name": "stdout",
     "output_type": "stream",
     "text": [
      "The autoreload extension is already loaded. To reload it, use:\n",
      "  %reload_ext autoreload\n"
     ]
    }
   ],
   "source": [
    "%load_ext autoreload\n",
    "%autoreload\n",
    "import torch\n",
    "from src.fuxi import FuXi"
   ]
  },
  {
   "cell_type": "code",
   "outputs": [
    {
     "name": "stdout",
     "output_type": "stream",
     "text": [
      "126354416\n",
      "torch.Size([1, 1536, 30, 60])\n",
      "torch.Size([1, 25, 121, 240])\n"
     ]
    }
   ],
   "source": [
    "x = torch.randn(1, 2, 25, 121, 240)\n",
    "\n",
    "model = FuXi(25, 1536, 48, 121, 240, heads=8)\n",
    "total_params = sum(p.numel() for p in model.parameters())\n",
    "print(total_params)\n",
    "x = model(x)\n",
    "print(x.shape)"
   ],
   "metadata": {
    "collapsed": false,
    "ExecuteTime": {
     "end_time": "2024-04-05T21:50:25.867333Z",
     "start_time": "2024-04-05T21:50:16.547672Z"
    }
   },
   "id": "678d0e911e41ab97",
   "execution_count": 28
  },
  {
   "cell_type": "code",
   "outputs": [],
   "source": [],
   "metadata": {
    "collapsed": false,
    "ExecuteTime": {
     "end_time": "2024-04-05T21:50:25.867733Z",
     "start_time": "2024-04-05T21:50:25.865222Z"
    }
   },
   "id": "b25b95d4fe3d6f6d",
   "execution_count": 28
  }
 ],
 "metadata": {
  "kernelspec": {
   "display_name": "Python 3",
   "language": "python",
   "name": "python3"
  },
  "language_info": {
   "codemirror_mode": {
    "name": "ipython",
    "version": 2
   },
   "file_extension": ".py",
   "mimetype": "text/x-python",
   "name": "python",
   "nbconvert_exporter": "python",
   "pygments_lexer": "ipython2",
   "version": "2.7.6"
  }
 },
 "nbformat": 4,
 "nbformat_minor": 5
}
