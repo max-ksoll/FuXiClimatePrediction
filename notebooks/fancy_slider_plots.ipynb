{
 "cells": [
  {
   "cell_type": "code",
   "execution_count": 237,
   "id": "initial_id",
   "metadata": {
    "ExecuteTime": {
     "end_time": "2024-04-26T12:05:21.325710Z",
     "start_time": "2024-04-26T12:05:20.915809Z"
    }
   },
   "outputs": [
    {
     "name": "stdout",
     "output_type": "stream",
     "text": [
      "The autoreload extension is already loaded. To reload it, use:\n",
      "  %reload_ext autoreload\n"
     ]
    }
   ],
   "source": [
    "import cv2\n",
    "import pandas as pd\n",
    "%load_ext autoreload\n",
    "%autoreload\n",
    "%matplotlib widget\n",
    "%matplotlib inline\n",
    "\n",
    "import os\n",
    "import torch\n",
    "import zarr\n",
    "import xarray as xr\n",
    "import numpy as np\n",
    "import matplotlib.pyplot as plt\n",
    "import cartopy.crs as ccrs\n",
    "\n",
    "from torch.utils.data import DataLoader\n",
    "from tqdm import tqdm\n",
    "from src.era5_dataset import ERA5Dataset, TimeMode\n",
    "from src.fuxi_ligthning import FuXi\n",
    "from tqdm import tqdm\n",
    "from ipywidgets import interact, IntSlider\n"
   ]
  },
  {
   "cell_type": "code",
   "execution_count": 8,
   "id": "327756e69f428e0e",
   "metadata": {
    "collapsed": false,
    "ExecuteTime": {
     "end_time": "2024-04-25T10:55:58.302512Z",
     "start_time": "2024-04-25T10:55:57.939437Z"
    }
   },
   "outputs": [],
   "source": [
    "model = FuXi.load_from_checkpoint('/Users/ksoll/git/DL4WeatherAndClimate/models/epoch=13-step=613533.ckpt',\n",
    "                                  map_location=torch.device(\"cpu\"))\n",
    "model: FuXi\n",
    "model.set_autoregression_steps(12)\n",
    "dataset = test_ds = ERA5Dataset(\n",
    "    \"/Users/ksoll/git/DL4WeatherAndClimate/data/era5_6hourly.zarr\",\n",
    "    TimeMode.BETWEEN,\n",
    "    start_time=\"2011-01-01T00:00:00\",\n",
    "    end_time=\"2011-01-31T18:00:00\",\n",
    "    max_autoregression_steps=12,\n",
    "    zarr_col_names='lessig'\n",
    ")\n",
    "dl = DataLoader(dataset, batch_size=1, shuffle=False, num_workers=os.cpu_count() // 2, pin_memory=True)"
   ]
  },
  {
   "cell_type": "code",
   "outputs": [
    {
     "data": {
      "text/plain": "26975248"
     },
     "execution_count": 240,
     "metadata": {},
     "output_type": "execute_result"
    }
   ],
   "source": [
    "total_params = sum(p.numel() for p in model.parameters())\n",
    "total_params"
   ],
   "metadata": {
    "collapsed": false,
    "ExecuteTime": {
     "end_time": "2024-04-26T13:32:28.510199Z",
     "start_time": "2024-04-26T13:32:28.498250Z"
    }
   },
   "id": "36620a8760417d7f",
   "execution_count": 240
  },
  {
   "cell_type": "code",
   "outputs": [
    {
     "name": "stderr",
     "output_type": "stream",
     "text": [
      "0it [00:04, ?it/s]\n"
     ]
    }
   ],
   "source": [
    "# range muss noch durch den dataloader ersetzt werden\n",
    "for idx, batch in tqdm(enumerate(dl)):\n",
    "    out = model.forward(batch)[0, :, :, :, :]\n",
    "    preds = torch.reshape(out, (12, 5, 5, 121, 240)).numpy()\n",
    "    temp_pred = preds[:, 0, 2:4, :, :]\n",
    "    humid_pred = preds[None, :, 1, 2:4, :, :]\n",
    "    uwind_pred = preds[None, :, 2, 2:4, :, :]\n",
    "    vwind_pred = preds[None, :, 3, 2:4, :, :]\n",
    "    geo_pred = preds[None, :, 4, 2:4, :, :]\n",
    "    break"
   ],
   "metadata": {
    "collapsed": false,
    "ExecuteTime": {
     "end_time": "2024-04-25T10:56:04.034108Z",
     "start_time": "2024-04-25T10:55:58.806930Z"
    }
   },
   "id": "c4dffe7031ae3bee",
   "execution_count": 9
  },
  {
   "cell_type": "code",
   "outputs": [
    {
     "data": {
      "text/plain": "<zarr.hierarchy.Group '/'>"
     },
     "execution_count": 133,
     "metadata": {},
     "output_type": "execute_result"
    }
   ],
   "source": [],
   "metadata": {
    "collapsed": false,
    "ExecuteTime": {
     "end_time": "2024-04-25T13:55:30.053792Z",
     "start_time": "2024-04-25T13:55:30.041161Z"
    }
   },
   "id": "b65d09308864e6df",
   "execution_count": 133
  },
  {
   "cell_type": "code",
   "outputs": [],
   "source": [
    "ds_forecast = xr.open_dataset(\"/Users/ksoll/git/DL4WeatherAndClimate/data/preds_2020_more_steps.zarr\")\n",
    "mins = np.array([193.48901, -3.3835982e-05, -65.45247, -96.98215, -6838.8906])\n",
    "maxs = np.array([324.80637, 0.029175894, 113.785934, 89.834595, 109541.625])\n",
    "plot_mins = [-40 + 273.15, 0, -10, -30, -5000]\n",
    "plot_maxs = [30 + 273.15, 0.015, 30, 30, 100_000]\n",
    "maxs_minus_mins = maxs - mins\n",
    "var_to_idx = {\n",
    "    \"temperature\": 0,\n",
    "    \"t\": 0,\n",
    "    \"specific_humidity\": 1,\n",
    "    \"q\": 1,\n",
    "    \"u_component_of_wind\": 2,\n",
    "    \"u\": 2,\n",
    "    \"v_component_of_wind\": 3,\n",
    "    \"v\": 3,\n",
    "    \"geopotential\": 4,\n",
    "    \"z\": 4\n",
    "}"
   ],
   "metadata": {
    "collapsed": false,
    "ExecuteTime": {
     "end_time": "2024-04-26T11:50:35.119406Z",
     "start_time": "2024-04-26T11:50:35.093543Z"
    }
   },
   "id": "33b9d6d4052d3195",
   "execution_count": 233
  },
  {
   "cell_type": "code",
   "execution_count": 234,
   "id": "50a16264cb502b3e",
   "metadata": {
    "collapsed": false,
    "ExecuteTime": {
     "end_time": "2024-04-26T11:51:32.011184Z",
     "start_time": "2024-04-26T11:50:36.161615Z"
    }
   },
   "outputs": [
    {
     "name": "stderr",
     "output_type": "stream",
     "text": [
      "100%|██████████| 40/40 [00:13<00:00,  2.88it/s]\n",
      "100%|██████████| 40/40 [00:14<00:00,  2.74it/s]\n",
      "100%|██████████| 40/40 [00:13<00:00,  2.87it/s]\n",
      "100%|██████████| 40/40 [00:13<00:00,  2.99it/s]\n"
     ]
    }
   ],
   "source": [
    "def save_forecast_timestep(variable, time_idx, pred_time_idx):\n",
    "    var_idx = var_to_idx[variable]\n",
    "    forecast = ds_forecast[variable].isel(time=time_idx).isel(prediction_timedelta=pred_time_idx).isel(level=1)\n",
    "    forecast = forecast * maxs_minus_mins[var_idx] + mins[var_idx]\n",
    "    fig, ax = plt.subplots(figsize=(12, 8), subplot_kw={'projection': ccrs.PlateCarree()})\n",
    "    ax.coastlines()\n",
    "    im = forecast.plot(ax=ax, add_colorbar=False, transform=ccrs.PlateCarree(), vmin=plot_mins[var_idx], vmax=plot_maxs[var_idx])\n",
    "    cbar = plt.colorbar(im, ax=ax, orientation='vertical', shrink=0.5)\n",
    "    cbar.set_label(variable)\n",
    "    im.colorbar.set_label(variable)\n",
    "    time = np.datetime64(\"2020-01-01T00:00:00\") + np.timedelta64(time_idx, \"D\") + 6*np.timedelta64(pred_time_idx, \"h\")\n",
    "    ax.set_title(f'Prediction of {variable} on {time}')\n",
    "    fig.canvas.draw()\n",
    "    data = np.frombuffer(fig.canvas.buffer_rgba(), dtype=np.uint8)\n",
    "    data = data.reshape(fig.canvas.get_width_height()[::-1] + (4,))\n",
    "    data = cv2.cvtColor(data, cv2.COLOR_RGBA2BGR)\n",
    "    plt.close(fig)\n",
    "    return data\n",
    "\n",
    "\n",
    "fps = 12\n",
    "frame_size = (1920, 1080)\n",
    "\n",
    "# Verwendungszweck:\n",
    "for variable in [\"temperature\", \"specific_humidity\", \"u_component_of_wind\", \"v_component_of_wind\"]:\n",
    "    for time_idx in range(1):\n",
    "        path = f\"/Users/ksoll/git/DL4WeatherAndClimate/figures/2020-01/{variable}_pred_{time_idx}\"\n",
    "        out = cv2.VideoWriter(path + '.mp4', cv2.VideoWriter_fourcc(*'mp4v'), fps, frame_size)\n",
    "        for pred_time_idx in tqdm(range(40)):\n",
    "            data = save_forecast_timestep(variable, time_idx, pred_time_idx)\n",
    "            bild_resized = cv2.resize(data, frame_size)\n",
    "            cv2.imwrite(path + f'_{pred_time_idx}.png', bild_resized)\n",
    "            out.write(bild_resized)\n",
    "        out.release()"
   ]
  },
  {
   "cell_type": "code",
   "outputs": [],
   "source": [
    "store = zarr.DirectoryStore(\"/Users/ksoll/git/DL4WeatherAndClimate/data/era5_6hourly_cpy.zarr\")\n",
    "sources = zarr.group(store=store)"
   ],
   "metadata": {
    "collapsed": false,
    "ExecuteTime": {
     "end_time": "2024-04-25T15:54:27.443979Z",
     "start_time": "2024-04-25T15:54:27.439279Z"
    }
   },
   "id": "405feee20edf194e",
   "execution_count": 223
  },
  {
   "cell_type": "code",
   "outputs": [
    {
     "name": "stderr",
     "output_type": "stream",
     "text": [
      "100%|██████████| 40/40 [00:35<00:00,  1.13it/s]\n",
      "100%|██████████| 40/40 [00:36<00:00,  1.11it/s]\n",
      "100%|██████████| 40/40 [00:36<00:00,  1.10it/s]\n",
      "100%|██████████| 40/40 [00:34<00:00,  1.15it/s]\n"
     ]
    }
   ],
   "source": [
    "les_to_gcloud = {\n",
    "    \"t\": \"temperature\",\n",
    "    \"q\": \"specific_humidity\",\n",
    "    \"u\": \"u_component_of_wind\",\n",
    "    \"v\": \"v_component_of_wind\",\n",
    "    \"z\": \"geopotential\"\n",
    "}\n",
    "\n",
    "\n",
    "def save_obs_timestep(variable, time_idx, pred_time_idx):\n",
    "    # Daten laden\n",
    "    var_idx = var_to_idx[variable]\n",
    "    obs = np.array(sources[variable])[time_idx + pred_time_idx, 1, :, :]\n",
    "    obs = np.flipud(obs)\n",
    "    obs = np.array(cv2.resize(obs, dsize=(360, 180), interpolation=cv2.INTER_CUBIC))\n",
    "    obs = xr.DataArray(obs, dims=['latitude', 'longitude'])\n",
    "    obs['latitude'] = np.linspace(-90, 90, 180)\n",
    "    obs['longitude'] = np.linspace(0, 360, 360)\n",
    "    fig, ax = plt.subplots(figsize=(12, 8), subplot_kw={'projection': ccrs.PlateCarree()})\n",
    "    ax.coastlines()\n",
    "    im = obs.plot(ax=ax, add_colorbar=False, transform=ccrs.PlateCarree(), vmin=plot_mins[var_idx], vmax=plot_maxs[var_idx])\n",
    "    cbar = plt.colorbar(im, ax=ax, orientation='vertical', shrink=0.5)\n",
    "    cbar.set_label(les_to_gcloud[variable])\n",
    "    im.colorbar.set_label(les_to_gcloud[variable])\n",
    "    ax.set_title(f'Vorhersage von {les_to_gcloud[variable]}')\n",
    "    fig.canvas.draw()\n",
    "    data = np.frombuffer(fig.canvas.buffer_rgba(), dtype=np.uint8)\n",
    "    data = data.reshape(fig.canvas.get_width_height()[::-1] + (4,))\n",
    "    data = cv2.cvtColor(data, cv2.COLOR_RGBA2BGR)\n",
    "    plt.close(fig)\n",
    "    return data\n",
    "\n",
    "\n",
    "fps = 12\n",
    "frame_size = (1920, 1080)\n",
    "\n",
    "for variable in [\"t\", \"q\", \"u\", \"v\"]:\n",
    "    for time_idx in range(1):\n",
    "        video_path = f\"/Users/ksoll/git/DL4WeatherAndClimate/figures/{les_to_gcloud[variable]}_obs_{time_idx}.mp4\"\n",
    "        out = cv2.VideoWriter(video_path, cv2.VideoWriter_fourcc(*'mp4v'), fps, frame_size)\n",
    "        for pred_time_idx in tqdm(range(40)):\n",
    "            data = save_obs_timestep(variable, time_idx, pred_time_idx)\n",
    "            bild_resized = cv2.resize(data, frame_size)\n",
    "            out.write(bild_resized)\n",
    "        out.release()"
   ],
   "metadata": {
    "collapsed": false,
    "ExecuteTime": {
     "end_time": "2024-04-25T15:56:50.413490Z",
     "start_time": "2024-04-25T15:54:27.448284Z"
    }
   },
   "id": "8036beee228c1b0e",
   "execution_count": 224
  },
  {
   "cell_type": "code",
   "outputs": [],
   "source": [
    "from src.score_torch import *"
   ],
   "metadata": {
    "collapsed": false
   },
   "id": "633cc43694410a68"
  },
  {
   "cell_type": "code",
   "outputs": [
    {
     "ename": "KeyError",
     "evalue": "'v_component_of_wind'",
     "output_type": "error",
     "traceback": [
      "\u001B[0;31m---------------------------------------------------------------------------\u001B[0m",
      "\u001B[0;31mKeyError\u001B[0m                                  Traceback (most recent call last)",
      "Cell \u001B[0;32mIn[230], line 21\u001B[0m\n\u001B[1;32m     18\u001B[0m             day_rmse\u001B[38;5;241m.\u001B[39mappend(rmse_sum)\n\u001B[1;32m     19\u001B[0m             rmse_sum \u001B[38;5;241m=\u001B[39m \u001B[38;5;241m0\u001B[39m\n\u001B[0;32m---> 21\u001B[0m \u001B[43mrmse_plots\u001B[49m\u001B[43m(\u001B[49m\u001B[38;5;241;43m0\u001B[39;49m\u001B[43m)\u001B[49m\n",
      "Cell \u001B[0;32mIn[230], line 7\u001B[0m, in \u001B[0;36mrmse_plots\u001B[0;34m(time_idx)\u001B[0m\n\u001B[1;32m      5\u001B[0m weights \u001B[38;5;241m=\u001B[39m np\u001B[38;5;241m.\u001B[39mcos(np\u001B[38;5;241m.\u001B[39mdeg2rad(np\u001B[38;5;241m.\u001B[39mlinspace(\u001B[38;5;241m-\u001B[39m\u001B[38;5;241m90\u001B[39m, \u001B[38;5;241m90\u001B[39m, \u001B[38;5;241m121\u001B[39m)))\n\u001B[1;32m      6\u001B[0m \u001B[38;5;28;01mfor\u001B[39;00m pred_time_idx \u001B[38;5;129;01min\u001B[39;00m \u001B[38;5;28mrange\u001B[39m(\u001B[38;5;241m40\u001B[39m):\n\u001B[0;32m----> 7\u001B[0m     obs \u001B[38;5;241m=\u001B[39m np\u001B[38;5;241m.\u001B[39marray(\u001B[43msources\u001B[49m\u001B[43m[\u001B[49m\u001B[43mvariable\u001B[49m\u001B[43m]\u001B[49m)[time_idx \u001B[38;5;241m+\u001B[39m pred_time_idx, \u001B[38;5;241m1\u001B[39m, :, :]\n\u001B[1;32m      8\u001B[0m     obs \u001B[38;5;241m=\u001B[39m np\u001B[38;5;241m.\u001B[39mflipud(obs)\n\u001B[1;32m     10\u001B[0m     forecast \u001B[38;5;241m=\u001B[39m ds_forecast[variable]\u001B[38;5;241m.\u001B[39misel(time\u001B[38;5;241m=\u001B[39mtime_idx)\u001B[38;5;241m.\u001B[39misel(prediction_timedelta\u001B[38;5;241m=\u001B[39mpred_time_idx)\u001B[38;5;241m.\u001B[39misel(level\u001B[38;5;241m=\u001B[39m\u001B[38;5;241m1\u001B[39m)\n",
      "File \u001B[0;32m~/git/DL4WeatherAndClimate/venv/lib/python3.11/site-packages/zarr/hierarchy.py:511\u001B[0m, in \u001B[0;36mGroup.__getitem__\u001B[0;34m(self, item)\u001B[0m\n\u001B[1;32m    509\u001B[0m         \u001B[38;5;28;01mraise\u001B[39;00m \u001B[38;5;167;01mKeyError\u001B[39;00m(item)\n\u001B[1;32m    510\u001B[0m \u001B[38;5;28;01melse\u001B[39;00m:\n\u001B[0;32m--> 511\u001B[0m     \u001B[38;5;28;01mraise\u001B[39;00m \u001B[38;5;167;01mKeyError\u001B[39;00m(item)\n",
      "\u001B[0;31mKeyError\u001B[0m: 'v_component_of_wind'"
     ]
    }
   ],
   "source": [
    "def rmse_plots(time_idx):\n",
    "    var_idx = var_to_idx[variable]\n",
    "    day_rmse = []\n",
    "    rmse_sum = 0\n",
    "    weights = np.cos(np.deg2rad(np.linspace(-90, 90, 121)))\n",
    "    for pred_time_idx in range(40):\n",
    "        obs = np.array(sources[variable])[time_idx + pred_time_idx, 1, :, :]\n",
    "        obs = np.flipud(obs)\n",
    "        \n",
    "        forecast = ds_forecast[variable].isel(time=time_idx).isel(prediction_timedelta=pred_time_idx).isel(level=1)\n",
    "        forecast = np.array(forecast * maxs_minus_mins[var_idx] + mins[var_idx])\n",
    "        \n",
    "        rmse = compute_weighted_rmse(forecast, obs, weights)\n",
    "        rmse_sum += rmse\n",
    "        print(rmse)\n",
    "        \n",
    "        if (pred_time_idx+1)%4 == 0:\n",
    "            day_rmse.append(rmse_sum)\n",
    "            rmse_sum = 0\n",
    "\n",
    "rmse_plots(0)"
   ],
   "metadata": {
    "collapsed": false,
    "ExecuteTime": {
     "end_time": "2024-04-26T08:29:02.783762Z",
     "start_time": "2024-04-26T08:29:02.735766Z"
    }
   },
   "id": "42a156137df44252",
   "execution_count": 230
  },
  {
   "cell_type": "code",
   "outputs": [
    {
     "ename": "ValueError",
     "evalue": "found the following matches with the input file in xarray's IO backends: ['netcdf4', 'scipy']. But their dependencies may not be installed, see:\nhttps://docs.xarray.dev/en/stable/user-guide/io.html \nhttps://docs.xarray.dev/en/stable/getting-started-guide/installing.html",
     "output_type": "error",
     "traceback": [
      "\u001B[0;31m---------------------------------------------------------------------------\u001B[0m",
      "\u001B[0;31mValueError\u001B[0m                                Traceback (most recent call last)",
      "Cell \u001B[0;32mIn[238], line 1\u001B[0m\n\u001B[0;32m----> 1\u001B[0m metrics \u001B[38;5;241m=\u001B[39m \u001B[43mxr\u001B[49m\u001B[38;5;241;43m.\u001B[39;49m\u001B[43mopen_dataset\u001B[49m\u001B[43m(\u001B[49m\u001B[38;5;124;43m\"\u001B[39;49m\u001B[38;5;124;43m/Users/ksoll/git/DL4WeatherAndClimate/data/deterministic.nc\u001B[39;49m\u001B[38;5;124;43m\"\u001B[39;49m\u001B[43m)\u001B[49m\n\u001B[1;32m      2\u001B[0m metrics\n",
      "File \u001B[0;32m~/git/DL4WeatherAndClimate/venv/lib/python3.11/site-packages/xarray/backends/api.py:554\u001B[0m, in \u001B[0;36mopen_dataset\u001B[0;34m(filename_or_obj, engine, chunks, cache, decode_cf, mask_and_scale, decode_times, decode_timedelta, use_cftime, concat_characters, decode_coords, drop_variables, inline_array, chunked_array_type, from_array_kwargs, backend_kwargs, **kwargs)\u001B[0m\n\u001B[1;32m    551\u001B[0m     kwargs\u001B[38;5;241m.\u001B[39mupdate(backend_kwargs)\n\u001B[1;32m    553\u001B[0m \u001B[38;5;28;01mif\u001B[39;00m engine \u001B[38;5;129;01mis\u001B[39;00m \u001B[38;5;28;01mNone\u001B[39;00m:\n\u001B[0;32m--> 554\u001B[0m     engine \u001B[38;5;241m=\u001B[39m \u001B[43mplugins\u001B[49m\u001B[38;5;241;43m.\u001B[39;49m\u001B[43mguess_engine\u001B[49m\u001B[43m(\u001B[49m\u001B[43mfilename_or_obj\u001B[49m\u001B[43m)\u001B[49m\n\u001B[1;32m    556\u001B[0m \u001B[38;5;28;01mif\u001B[39;00m from_array_kwargs \u001B[38;5;129;01mis\u001B[39;00m \u001B[38;5;28;01mNone\u001B[39;00m:\n\u001B[1;32m    557\u001B[0m     from_array_kwargs \u001B[38;5;241m=\u001B[39m {}\n",
      "File \u001B[0;32m~/git/DL4WeatherAndClimate/venv/lib/python3.11/site-packages/xarray/backends/plugins.py:197\u001B[0m, in \u001B[0;36mguess_engine\u001B[0;34m(store_spec)\u001B[0m\n\u001B[1;32m    189\u001B[0m \u001B[38;5;28;01melse\u001B[39;00m:\n\u001B[1;32m    190\u001B[0m     error_msg \u001B[38;5;241m=\u001B[39m (\n\u001B[1;32m    191\u001B[0m         \u001B[38;5;124m\"\u001B[39m\u001B[38;5;124mfound the following matches with the input file in xarray\u001B[39m\u001B[38;5;124m'\u001B[39m\u001B[38;5;124ms IO \u001B[39m\u001B[38;5;124m\"\u001B[39m\n\u001B[1;32m    192\u001B[0m         \u001B[38;5;124mf\u001B[39m\u001B[38;5;124m\"\u001B[39m\u001B[38;5;124mbackends: \u001B[39m\u001B[38;5;132;01m{\u001B[39;00mcompatible_engines\u001B[38;5;132;01m}\u001B[39;00m\u001B[38;5;124m. But their dependencies may not be installed, see:\u001B[39m\u001B[38;5;130;01m\\n\u001B[39;00m\u001B[38;5;124m\"\u001B[39m\n\u001B[1;32m    193\u001B[0m         \u001B[38;5;124m\"\u001B[39m\u001B[38;5;124mhttps://docs.xarray.dev/en/stable/user-guide/io.html \u001B[39m\u001B[38;5;130;01m\\n\u001B[39;00m\u001B[38;5;124m\"\u001B[39m\n\u001B[1;32m    194\u001B[0m         \u001B[38;5;124m\"\u001B[39m\u001B[38;5;124mhttps://docs.xarray.dev/en/stable/getting-started-guide/installing.html\u001B[39m\u001B[38;5;124m\"\u001B[39m\n\u001B[1;32m    195\u001B[0m     )\n\u001B[0;32m--> 197\u001B[0m \u001B[38;5;28;01mraise\u001B[39;00m \u001B[38;5;167;01mValueError\u001B[39;00m(error_msg)\n",
      "\u001B[0;31mValueError\u001B[0m: found the following matches with the input file in xarray's IO backends: ['netcdf4', 'scipy']. But their dependencies may not be installed, see:\nhttps://docs.xarray.dev/en/stable/user-guide/io.html \nhttps://docs.xarray.dev/en/stable/getting-started-guide/installing.html"
     ]
    }
   ],
   "source": [
    "metrics = xr.open_dataset(\"/Users/ksoll/git/DL4WeatherAndClimate/data/deterministic.nc\")\n",
    "metrics"
   ],
   "metadata": {
    "collapsed": false,
    "ExecuteTime": {
     "end_time": "2024-04-26T12:05:25.186857Z",
     "start_time": "2024-04-26T12:05:25.158920Z"
    }
   },
   "id": "14430e2e45e8e2a8",
   "execution_count": 238
  },
  {
   "cell_type": "code",
   "outputs": [],
   "source": [],
   "metadata": {
    "collapsed": false
   },
   "id": "db2038a15905ba79"
  }
 ],
 "metadata": {
  "kernelspec": {
   "display_name": "Python 3 (ipykernel)",
   "language": "python",
   "name": "python3"
  },
  "language_info": {
   "codemirror_mode": {
    "name": "ipython",
    "version": 3
   },
   "file_extension": ".py",
   "mimetype": "text/x-python",
   "name": "python",
   "nbconvert_exporter": "python",
   "pygments_lexer": "ipython3",
   "version": "3.11.7"
  }
 },
 "nbformat": 4,
 "nbformat_minor": 5
}
