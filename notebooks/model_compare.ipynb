{
 "cells": [
  {
   "cell_type": "code",
   "execution_count": 182,
   "id": "initial_id",
   "metadata": {
    "collapsed": true,
    "ExecuteTime": {
     "end_time": "2024-05-05T15:40:53.736745Z",
     "start_time": "2024-05-05T15:40:53.732128Z"
    }
   },
   "outputs": [],
   "source": [
    "import pandas as pd\n",
    "import matplotlib.pyplot as plt\n",
    "import xarray as xr\n",
    "import numpy as np\n",
    "import matplotlib"
   ]
  },
  {
   "cell_type": "code",
   "outputs": [],
   "source": [
    "categories = [\"temperature\", \"specific_humidity\", \"u_component_of_wind\", \"v_component_of_wind\", \"geopotential\"]\n",
    "categories_deu = [\"Temperatur\", \"Spezifische Feuchte\", \"U Windkomponente\", \"V Windkomponente\", \"Geopotential\"]\n",
    "\n",
    "models = [\"IFS Hres\", \"Graphcast Operational\", \"Pangu-Weather Operational\", \"Unser FuXi\"]\n",
    "day_slices = [1, 3, 5, 7, 9]\n",
    "forecast_days = [f\"Tag {i}\" for i in day_slices]\n",
    "x = np.arange(len(forecast_days))\n",
    "cmap = matplotlib.colormaps['viridis']\n",
    "colors = cmap(np.linspace(0, 1, 4))"
   ],
   "metadata": {
    "collapsed": false,
    "ExecuteTime": {
     "end_time": "2024-05-05T15:40:54.393154Z",
     "start_time": "2024-05-05T15:40:54.387330Z"
    }
   },
   "id": "169d16ec33589746",
   "execution_count": 183
  },
  {
   "cell_type": "code",
   "outputs": [],
   "source": [
    "graphcast = xr.open_dataset(\"../data/eval/graphcast_operational.nc\").isel(lead_time=[i for i in range(39)])\n",
    "ifs = xr.open_dataset(\"../data/eval/ifs_hres.nc\").isel(lead_time=[i for i in range(39)])\n",
    "pangu = xr.open_dataset(\"../data/eval/pangu_operational.nc\").isel(lead_time=[i for i in range(39)])\n",
    "fuxi = xr.open_dataset(\"../data/eval/our_fuxi.nc\").isel(lead_time=[i for i in range(1, 40)])"
   ],
   "metadata": {
    "collapsed": false,
    "ExecuteTime": {
     "end_time": "2024-05-05T15:40:54.962111Z",
     "start_time": "2024-05-05T15:40:54.940374Z"
    }
   },
   "id": "c6d7a5c473973e19",
   "execution_count": 184
  },
  {
   "cell_type": "code",
   "outputs": [],
   "source": [
    "x_label = [i for i in range(39)]\n",
    "x_plot = [f\"Tag {int(np.timedelta64((i+1)*6, 'h')/ np.timedelta64(1, 'D'))}\" if np.timedelta64((i+1)*6, 'h')/ np.timedelta64(1, 'D') % 1 == 0 else \"\" for i in x_label]\n",
    "\n",
    "fig = plt.figure(figsize=(14,8))\n",
    "ax = plt.subplot(111)\n",
    "\n",
    "for variable in [\"temperature\", \"specific_humidity\", \"u_component_of_wind\", \"v_component_of_wind\", \"geopotential\"]:\n",
    "    y = np.array(fuxi[variable].sel(metric='acc', region='global')).flatten()\n",
    "    ax.plot(x_label,y, label=variable)\n",
    "\n",
    "ax.set_xticks(x_label)\n",
    "ax.set_xticklabels(x_plot)\n",
    "plt.ylabel(\"ACC\")\n",
    "\n",
    "ax.legend(title='Variable', prop={'size': 20})\n",
    "\n",
    "plt.savefig('../figures/acc.png')\n",
    "plt.close()"
   ],
   "metadata": {
    "collapsed": false,
    "ExecuteTime": {
     "end_time": "2024-05-03T11:28:41.825041Z",
     "start_time": "2024-05-03T11:28:41.681326Z"
    }
   },
   "id": "f2cc4f462653aa2d",
   "execution_count": 174
  },
  {
   "cell_type": "code",
   "outputs": [],
   "source": [
    "x_label = [i for i in range(39)]\n",
    "x_plot = [f\"Tag {int(np.timedelta64((i+1)*6, 'h')/ np.timedelta64(1, 'D'))}\" if np.timedelta64((i+1)*6, 'h')/ np.timedelta64(1, 'D') % 1 == 0 else \"\" for i in x_label]\n",
    "\n",
    "for variable in [\"temperature\", \"specific_humidity\", \"u_component_of_wind\", \"v_component_of_wind\", \"geopotential\"]:\n",
    "    y = np.sqrt(np.array(fuxi[variable].sel(metric='mse', region='global')).flatten())\n",
    "    fig = plt.figure(figsize=(14,8))\n",
    "    ax = plt.subplot(111)\n",
    "    ax.plot(x_label,y, label=variable)\n",
    "\n",
    "    ax.set_xticks(x_label)\n",
    "    ax.set_xticklabels(x_plot, fontsize=15)\n",
    "    ax.yaxis.label.set_size(15)\n",
    "    plt.ylabel(\"RMSE\", fontsize=15)\n",
    "    plt.savefig(f\"../figures/rmse_{variable}.png\")\n",
    "    # plt.show()\n",
    "    plt.close()"
   ],
   "metadata": {
    "collapsed": false,
    "ExecuteTime": {
     "end_time": "2024-05-05T15:42:07.187124Z",
     "start_time": "2024-05-05T15:42:06.516879Z"
    }
   },
   "id": "97921d25b5f6b2a7",
   "execution_count": 187
  },
  {
   "cell_type": "code",
   "outputs": [],
   "source": [
    "slices = [[0, 1, 2],\n",
    "          [3, 4, 5, 6], [7, 8, 9, 10], [11, 12, 13, 14], [15, 16, 17, 18], [19, 20, 21, 22],\n",
    "          [23, 24, 25, 26], [27, 28, 29, 30], [31, 32, 33, 34], [35, 36, 37, 38]]\n",
    "for idx, cat in enumerate(categories):\n",
    "    gcv_val = np.array(graphcast[cat].sel(region='global', level=850, metric='acc'))\n",
    "    ifs_vals = np.array(ifs[cat].sel(region='global', level=850, metric='acc'))\n",
    "    pangu_vals = np.array(pangu[cat].sel(region='global', level=850, metric='acc'))\n",
    "    fuxi_vals = np.array(fuxi[cat].sel(region='global', level=850, metric='acc'))\n",
    "    gcv_days = []\n",
    "    ifs_days = []\n",
    "    pangu_days = []\n",
    "    fuxi_days = []\n",
    "    for sl in slices:\n",
    "        gcv_days.append(gcv_val.take(sl).mean())\n",
    "        ifs_days.append(ifs_vals.take(sl).mean())\n",
    "        pangu_days.append(pangu_vals.take(sl).mean())\n",
    "        fuxi_days.append(fuxi_vals.take(sl).mean())\n",
    "    gcv_days = np.array(gcv_days)\n",
    "    ifs_days = np.array(ifs_days)\n",
    "    pangu_days = np.array(pangu_days)\n",
    "    fuxi_days = np.array(fuxi_days)\n",
    "\n",
    "    fig, ax = plt.subplots(figsize=(14, 8))\n",
    "    plt.bar(x - 0.4, gcv_days.take(day_slices), width=0.2, label='Graphcast', color=colors[0])\n",
    "    plt.bar(x - 0.2, ifs_days.take(day_slices), width=0.2, label='IFS HRes', color=colors[1])\n",
    "    plt.bar(x, pangu_days.take(day_slices), width=0.2, label='Pangu-Weather', color=colors[2])\n",
    "    plt.bar(x + 0.2, fuxi_days.take(day_slices), width=0.2, label='Unser FuXi', color=colors[3])\n",
    "\n",
    "    ax.set_xticks(x)\n",
    "    ax.set_xticklabels(forecast_days)\n",
    "\n",
    "    plt.ylabel('ACC')\n",
    "    plt.xticks(rotation=45)\n",
    "    plt.legend(title='Modell', prop={'size': 20})\n",
    "    plt.tight_layout()\n",
    "    # Show plot\n",
    "    plt.savefig(f\"../figures/modellvergleich_{cat}_acc.png\")\n",
    "    plt.close()"
   ],
   "metadata": {
    "collapsed": false,
    "ExecuteTime": {
     "end_time": "2024-05-03T11:21:08.635265Z",
     "start_time": "2024-05-03T11:21:08.094771Z"
    }
   },
   "id": "9c82cec96dfc0379",
   "execution_count": 158
  },
  {
   "cell_type": "code",
   "outputs": [],
   "source": [
    "slices = [[0, 1, 2],\n",
    "          [3, 4, 5, 6], [7, 8, 9, 10], [11, 12, 13, 14], [15, 16, 17, 18], [19, 20, 21, 22],\n",
    "          [23, 24, 25, 26], [27, 28, 29, 30], [31, 32, 33, 34], [35, 36, 37, 38]]\n",
    "for idx, cat in enumerate(categories):\n",
    "    gcv_val = np.sqrt(np.array(graphcast[cat].sel(region='global', level=850, metric='mse')))\n",
    "    ifs_vals = np.sqrt(np.array(ifs[cat].sel(region='global', level=850, metric='mse')))\n",
    "    pangu_vals = np.sqrt(np.array(pangu[cat].sel(region='global', level=850, metric='mse')))\n",
    "    fuxi_vals = np.sqrt(np.array(fuxi[cat].sel(region='global', level=850, metric='mse')))\n",
    "    gcv_days = []\n",
    "    ifs_days = []\n",
    "    pangu_days = []\n",
    "    fuxi_days = []\n",
    "    for sl in slices:\n",
    "        gcv_days.append(gcv_val.take(sl).mean())\n",
    "        ifs_days.append(ifs_vals.take(sl).mean())\n",
    "        pangu_days.append(pangu_vals.take(sl).mean())\n",
    "        fuxi_days.append(fuxi_vals.take(sl).mean())\n",
    "    gcv_days = np.array(gcv_days)\n",
    "    ifs_days = np.array(ifs_days)\n",
    "    pangu_days = np.array(pangu_days)\n",
    "    fuxi_days = np.array(fuxi_days)\n",
    "\n",
    "    fig, ax = plt.subplots(figsize=(14, 8))\n",
    "    plt.bar(x - 0.4, gcv_days.take(day_slices), width=0.2, label='Graphcast', color=colors[0])\n",
    "    plt.bar(x - 0.2, ifs_days.take(day_slices), width=0.2, label='IFS HRes', color=colors[1])\n",
    "    plt.bar(x, pangu_days.take(day_slices), width=0.2, label='Pangu-Weather', color=colors[2])\n",
    "    plt.bar(x + 0.2, fuxi_days.take(day_slices), width=0.2, label='Unser FuXi', color=colors[3])\n",
    "\n",
    "    ax.set_xticks(x)\n",
    "    ax.set_xticklabels(forecast_days)\n",
    "\n",
    "    plt.ylabel('RMSE')\n",
    "    plt.xticks(rotation=45)\n",
    "    plt.legend(title='Modell', prop={'size': 20})\n",
    "    plt.tight_layout()\n",
    "    # Show plot\n",
    "    plt.savefig(f\"../figures/modellvergleich_{cat}_rmse.png\")\n",
    "    plt.close()"
   ],
   "metadata": {
    "collapsed": false,
    "ExecuteTime": {
     "end_time": "2024-05-03T11:21:09.320987Z",
     "start_time": "2024-05-03T11:21:08.644103Z"
    }
   },
   "id": "538042ccc754153f",
   "execution_count": 159
  },
  {
   "cell_type": "code",
   "outputs": [],
   "source": [
    "slices = [[0, 1, 2],\n",
    "          [3, 4, 5, 6], [7, 8, 9, 10], [11, 12, 13, 14], [15, 16, 17, 18], [19, 20, 21, 22],\n",
    "          [23, 24, 25, 26], [27, 28, 29, 30], [31, 32, 33, 34], [35, 36, 37, 38]]\n",
    "x = [i for i in range(39)]\n",
    "x_ticks = [f\"Tag {int(np.timedelta64((i+1)*6, 'h')/ np.timedelta64(1, 'D'))}\" if np.timedelta64((i+1)*6, 'h')/ np.timedelta64(1, 'D') % 1 == 0 else \"\" for i in x]\n",
    "gcv_days_com = []\n",
    "ifs_days_com = []\n",
    "pangu_days_com = []\n",
    "fuxi_days_com = []\n",
    "for idx, cat in enumerate(categories):\n",
    "    gcv_val = np.array(graphcast[cat].sel(region='global', level=850, metric='acc'))\n",
    "    ifs_vals = np.array(ifs[cat].sel(region='global', level=850, metric='acc'))\n",
    "    pangu_vals = np.array(pangu[cat].sel(region='global', level=850, metric='acc'))\n",
    "    fuxi_vals = np.array(fuxi[cat].sel(region='global', level=850, metric='acc'))\n",
    "    gcv_days_com.append(gcv_val)\n",
    "    ifs_days_com.append(ifs_vals)\n",
    "    pangu_days_com.append(pangu_vals)\n",
    "    fuxi_days_com.append(fuxi_vals)\n",
    "\n",
    "gcv_days_com = np.array(gcv_days_com).mean(axis=0)\n",
    "ifs_days_com = np.array(ifs_days_com).mean(axis=0)\n",
    "pangu_days_com = np.array(pangu_days_com).mean(axis=0)\n",
    "fuxi_days_com = np.array(fuxi_days_com).mean(axis=0)\n",
    "\n",
    "fig, ax = plt.subplots(figsize=(14, 8))\n",
    "plt.plot(x, gcv_days_com, label='Graphcast', color=colors[0])\n",
    "plt.plot(x, ifs_days_com, label='IFS HRes', color=colors[1])\n",
    "plt.plot(x, pangu_days_com, label='Pangu-Weather', color=colors[2])\n",
    "plt.plot(x, fuxi_days_com, label='Unser FuXi', color=colors[3])\n",
    "\n",
    "ax.set_xticks(x)\n",
    "ax.set_xticklabels(x_ticks)\n",
    "\n",
    "plt.ylabel('ACC')\n",
    "plt.xlabel('Kategorie und Tag der Vorhersage')\n",
    "plt.xticks(rotation=45)\n",
    "plt.legend(title='Modell', prop={'size': 20})\n",
    "plt.tight_layout()\n",
    "# Show plot\n",
    "plt.savefig(f\"../figures/modellvergleich_cat_mean_acc.png\")\n",
    "plt.close()"
   ],
   "metadata": {
    "collapsed": false,
    "ExecuteTime": {
     "end_time": "2024-05-03T11:21:09.471170Z",
     "start_time": "2024-05-03T11:21:09.325143Z"
    }
   },
   "id": "f6c31ecd53cc298f",
   "execution_count": 160
  },
  {
   "cell_type": "code",
   "outputs": [],
   "source": [],
   "metadata": {
    "collapsed": false,
    "ExecuteTime": {
     "end_time": "2024-05-03T11:21:09.474462Z",
     "start_time": "2024-05-03T11:21:09.471466Z"
    }
   },
   "id": "254f4433823e9636",
   "execution_count": 160
  }
 ],
 "metadata": {
  "kernelspec": {
   "display_name": "Python 3",
   "language": "python",
   "name": "python3"
  },
  "language_info": {
   "codemirror_mode": {
    "name": "ipython",
    "version": 2
   },
   "file_extension": ".py",
   "mimetype": "text/x-python",
   "name": "python",
   "nbconvert_exporter": "python",
   "pygments_lexer": "ipython2",
   "version": "2.7.6"
  }
 },
 "nbformat": 4,
 "nbformat_minor": 5
}
