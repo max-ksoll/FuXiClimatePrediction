{
 "cells": [
  {
   "cell_type": "code",
   "execution_count": 69,
   "id": "initial_id",
   "metadata": {
    "collapsed": true,
    "ExecuteTime": {
     "end_time": "2024-04-05T13:03:54.614656Z",
     "start_time": "2024-04-05T13:03:54.610112Z"
    }
   },
   "outputs": [],
   "source": [
    "import torch"
   ]
  },
  {
   "cell_type": "code",
   "execution_count": 70,
   "outputs": [],
   "source": [
    "import torch\n",
    "import torch.nn as nn\n",
    "\n",
    "class SpaceTimeCubeEmbedding(nn.Module):\n",
    "    def __init__(self, in_channels, out_channels):\n",
    "        super(SpaceTimeCubeEmbedding, self).__init__()\n",
    "        # 3D Convolution layer with kernel size and stride of (2, 4, 4)\n",
    "        # This will reduce the temporal dimension by a factor of 2 and spatial dimensions by a factor of 4\n",
    "        self.conv3d = nn.Conv3d(in_channels, out_channels, kernel_size=(2, 4, 4), stride=(2, 4, 4))\n",
    "        # Layer Normalization\n",
    "        self.layer_norm = nn.LayerNorm(out_channels)\n",
    "\n",
    "    def forward(self, x):\n",
    "        x_permuted = x.permute(1, 0, 2, 3 )  # Move the channel dimension to the end for LayerNorm\n",
    "        x = self.conv3d(x_permuted)\n",
    "        x = x.permute(1, 2, 3, 0)  # Move the channel dimension to the end for LayerNorm\n",
    "        x_normalized = self.layer_norm(x)\n",
    "        x_out = x_normalized.permute( 0, 3, 1, 2)\n",
    "        return x_out\n",
    "\n",
    "\n",
    "model = SpaceTimeCubeEmbedding(in_channels=70, out_channels=128)\n"
   ],
   "metadata": {
    "collapsed": false,
    "ExecuteTime": {
     "end_time": "2024-04-05T13:03:54.622715Z",
     "start_time": "2024-04-05T13:03:54.616286Z"
    }
   },
   "id": "4aa6a2cd20f88fd2"
  },
  {
   "cell_type": "code",
   "execution_count": 71,
   "outputs": [
    {
     "data": {
      "text/plain": "torch.Size([1, 128, 180, 360])"
     },
     "execution_count": 71,
     "metadata": {},
     "output_type": "execute_result"
    }
   ],
   "source": [
    "random_tensor = torch.randn(2, 70, 721, 1440)\n",
    "x = model.forward(random_tensor)\n",
    "x.shape\n"
   ],
   "metadata": {
    "collapsed": false,
    "ExecuteTime": {
     "end_time": "2024-04-05T13:03:57.414812Z",
     "start_time": "2024-04-05T13:03:54.620748Z"
    }
   },
   "id": "57d4f1b51675244e"
  },
  {
   "cell_type": "code",
   "execution_count": 71,
   "outputs": [],
   "source": [],
   "metadata": {
    "collapsed": false,
    "ExecuteTime": {
     "end_time": "2024-04-05T13:03:57.415219Z",
     "start_time": "2024-04-05T13:03:57.412744Z"
    }
   },
   "id": "6dab200984dc1cb2"
  }
 ],
 "metadata": {
  "kernelspec": {
   "display_name": "Python 3",
   "language": "python",
   "name": "python3"
  },
  "language_info": {
   "codemirror_mode": {
    "name": "ipython",
    "version": 2
   },
   "file_extension": ".py",
   "mimetype": "text/x-python",
   "name": "python",
   "nbconvert_exporter": "python",
   "pygments_lexer": "ipython2",
   "version": "2.7.6"
  }
 },
 "nbformat": 4,
 "nbformat_minor": 5
}
