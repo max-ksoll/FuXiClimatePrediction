{
 "cells": [
  {
   "cell_type": "code",
   "execution_count": 1,
   "id": "3e113397",
   "metadata": {},
   "outputs": [],
   "source": [
    "import sys\n",
    "sys.path.append('/home/mksoll/DL4WeatherAndClimate')"
   ]
  },
  {
   "cell_type": "code",
   "execution_count": 2,
   "id": "initial_id",
   "metadata": {
    "ExecuteTime": {
     "end_time": "2024-04-14T12:59:34.545678Z",
     "start_time": "2024-04-14T12:59:34.490692Z"
    }
   },
   "outputs": [],
   "source": [
    "import os\n",
    "\n",
    "import zarr\n",
    "import numpy as np\n",
    "import xarray as xr\n",
    "import torch\n",
    "from tqdm import tqdm\n",
    "import matplotlib.pyplot as plt\n",
    "\n",
    "from src.era5_dataset import ERA5Dataset, TimeMode\n",
    "from src.fuxi_ligthning import FuXi\n",
    "from torch.utils.data import DataLoader\n",
    "import matplotlib.pyplot as plt\n",
    "%load_ext autoreload\n",
    "%autoreload\n",
    "# Batch Size darf nicht größer als 1 gewählt werden, sonst funktioniert die Logik unten beim schreiben nicht"
   ]
  },
  {
   "cell_type": "code",
   "execution_count": 3,
   "id": "dff746d3bc8693e0",
   "metadata": {
    "ExecuteTime": {
     "end_time": "2024-04-14T12:59:34.545790Z",
     "start_time": "2024-04-14T12:59:34.518136Z"
    }
   },
   "outputs": [],
   "source": [
    "bs = 1\n",
    "autoregression_steps = 10*4\n",
    "timesteps_cnt = 2*4\n",
    "levels_cnt = 2\n",
    "vars_cnt = 5\n",
    "lats_cnt = 121\n",
    "lons_cnt = 240\n",
    "start_time = \"2019-12-31T12:00:00\"\n",
    "end_time = \"2020-12-31T18:00:00\"\n",
    "model_path = \"/home/mksoll/DL4WeatherAndClimate/models/epoch=13-step=613533.ckpt\""
   ]
  },
  {
   "cell_type": "code",
   "execution_count": 4,
   "id": "3e54b7a97009b3ea",
   "metadata": {
    "ExecuteTime": {
     "end_time": "2024-04-14T12:59:35.586518Z",
     "start_time": "2024-04-14T12:59:34.521061Z"
    }
   },
   "outputs": [],
   "source": [
    "model = FuXi.load_from_checkpoint(model_path)\n",
    "model: FuXi\n",
    "model.set_autoregression_steps(autoregression_steps)\n",
    "dataset = test_ds = ERA5Dataset(\n",
    "    \"/home/mksoll/DL4WeatherAndClimate/data/1959-2022-6h-240x121_equiangular_with_poles_conservative.zarr\",\n",
    "    TimeMode.BETWEEN,\n",
    "    start_time=start_time,\n",
    "    end_time=end_time,\n",
    "    max_autoregression_steps=autoregression_steps,\n",
    "    zarr_col_names='gcloud'\n",
    ")\n",
    "dl = DataLoader(dataset, batch_size=bs, shuffle=False, num_workers=os.cpu_count() // 2, pin_memory=True)\n"
   ]
  },
  {
   "cell_type": "code",
   "execution_count": 5,
   "id": "479a4364a2cce1da",
   "metadata": {
    "ExecuteTime": {
     "end_time": "2024-04-14T12:59:35.633936Z",
     "start_time": "2024-04-14T12:59:35.591153Z"
    }
   },
   "outputs": [],
   "source": [
    "store = zarr.DirectoryStore('./preds.zarr')\n",
    "root = zarr.group(store=store, overwrite=True)\n",
    "\n",
    "latitude = root.create_dataset('latitude', shape=(0,), chunks=(lats_cnt,), dtype=np.float64, fill_value=-99999)\n",
    "levels = root.create_dataset('level', shape=(0,), chunks=(levels_cnt,), dtype=np.int32, fill_value=-99)\n",
    "longitude = root.create_dataset('longitude', shape=(0,), chunks=(lons_cnt,), dtype=np.float64, fill_value=-99999)\n",
    "pred_timedelta = root.create_dataset('prediction_timedelta', shape=(0,), chunks=(autoregression_steps,),\n",
    "                                     dtype='timedelta64[ns]')\n",
    "# die Zeit muss noch richtig gesetzt werden, wahrscheinlich dann über das Dataset\n",
    "time = root.create_dataset('time', shape=(0,), chunks=(timesteps_cnt,), dtype='datetime64[ns]', fill_value=-99999)\n",
    "\n",
    "temp = root.create_dataset('temperature', shape=(0, autoregression_steps, levels_cnt, lats_cnt, lons_cnt),\n",
    "                           dtype=np.float64,\n",
    "                           chunks=(16, autoregression_steps, levels_cnt, lats_cnt, lons_cnt), fill_value=-99999)\n",
    "temp.attrs['_ARRAY_DIMENSIONS'] = ['time', 'prediction_timedelta', 'level', 'latitude', 'longitude']\n",
    "humid = root.create_dataset('specific_humidity', shape=(0, autoregression_steps, levels_cnt, lats_cnt, lons_cnt),\n",
    "                            dtype=np.float64,\n",
    "                            chunks=(16, autoregression_steps, levels_cnt, lats_cnt, lons_cnt), fill_value=-99999)\n",
    "humid.attrs['_ARRAY_DIMENSIONS'] = ['time', 'prediction_timedelta', 'level', 'latitude', 'longitude']\n",
    "uwind = root.create_dataset('u_component_of_wind', shape=(0, autoregression_steps, levels_cnt, lats_cnt, lons_cnt),\n",
    "                            dtype=np.float64,\n",
    "                            chunks=(16, autoregression_steps, levels_cnt, lats_cnt, lons_cnt), fill_value=-99999)\n",
    "uwind.attrs['_ARRAY_DIMENSIONS'] = ['time', 'prediction_timedelta', 'level', 'latitude', 'longitude']\n",
    "vwind = root.create_dataset('v_component_of_wind', shape=(0, autoregression_steps, levels_cnt, lats_cnt, lons_cnt),\n",
    "                            dtype=np.float64,\n",
    "                            chunks=(16, autoregression_steps, levels_cnt, lats_cnt, lons_cnt), fill_value=-99999)\n",
    "vwind.attrs['_ARRAY_DIMENSIONS'] = ['time', 'prediction_timedelta', 'level', 'latitude', 'longitude']\n",
    "geo = root.create_dataset('geopotential', shape=(0, autoregression_steps, levels_cnt, lats_cnt, lons_cnt),\n",
    "                          dtype=np.float64,\n",
    "                          chunks=(16, autoregression_steps, levels_cnt, lats_cnt, lons_cnt), fill_value=-99999)\n",
    "geo.attrs['_ARRAY_DIMENSIONS'] = ['time', 'prediction_timedelta', 'level', 'latitude', 'longitude']\n"
   ]
  },
  {
   "cell_type": "code",
   "execution_count": 6,
   "id": "2857fd02b712a7c5",
   "metadata": {
    "ExecuteTime": {
     "end_time": "2024-04-14T12:59:35.649104Z",
     "start_time": "2024-04-14T12:59:35.636073Z"
    }
   },
   "outputs": [],
   "source": [
    "latitude.append(np.linspace(-90, 90, lats_cnt))\n",
    "latitude.attrs['_ARRAY_DIMENSIONS'] = ['latitude']\n",
    "\n",
    "levels.append([500, 850])\n",
    "levels.attrs['_ARRAY_DIMENSIONS'] = ['level']\n",
    "\n",
    "longitude.append(np.linspace(0, 358.5, lons_cnt))\n",
    "longitude.attrs['_ARRAY_DIMENSIONS'] = ['longitude']\n",
    "\n",
    "timedelta = [np.timedelta64(6 * i, 'h') for i in range(autoregression_steps)]\n",
    "pred_timedelta.append(np.array(timedelta))\n",
    "pred_timedelta.attrs['_ARRAY_DIMENSIONS'] = ['prediction_timedelta']\n",
    "\n",
    "times = [np.datetime64(start_time) + 2* timedelta[1] + i * timedelta[1] for i in range(timesteps_cnt)]\n",
    "time.append(times)\n",
    "time.attrs['_ARRAY_DIMENSIONS'] = ['time']"
   ]
  },
  {
   "cell_type": "code",
   "execution_count": 11,
   "id": "a0551012",
   "metadata": {},
   "outputs": [],
   "source": [
    "mins = torch.Tensor([193.48901, -3.3835982e-05, -65.45247, -96.98215, -6838.8906])\n",
    "maxs = torch.Tensor([324.80637, 0.029175894, 113.785934, 89.834595, 109541.625])\n",
    "max_minus_min = maxs - mins\n",
    "mins = mins[:, None, None]\n",
    "max_minus_min = max_minus_min[:, None, None]"
   ]
  },
  {
   "cell_type": "code",
   "execution_count": 12,
   "id": "ec287018c33a0cac",
   "metadata": {
    "ExecuteTime": {
     "end_time": "2024-04-14T12:59:50.496175Z",
     "start_time": "2024-04-14T12:59:35.651510Z"
    }
   },
   "outputs": [
    {
     "name": "stderr",
     "output_type": "stream",
     "text": [
      "8it [00:27,  3.38s/it]\n"
     ]
    }
   ],
   "source": [
    "# range muss noch durch den dataloader ersetzt werden\n",
    "for idx, batch in tqdm(enumerate(dl)):\n",
    "    if idx > timesteps_cnt-1:\n",
    "        break\n",
    "    x,y = batch\n",
    "    batch = x.cuda(), y.cuda()\n",
    "    out = model.forward(batch)[0, :, :, :, :]\n",
    "    preds = torch.reshape(out, (autoregression_steps, vars_cnt, out.shape[1] // vars_cnt, lats_cnt, lons_cnt))\n",
    "    preds = (preds*max_minus_min+mins).numpy()\n",
    "    temp.append(preds[None, :, 2:4, 0, :, :], axis=0)\n",
    "    humid.append(preds[None, :, 2:4, 1, :, :], axis=0)\n",
    "    uwind.append(preds[None, :, 2:4, 2, :, :], axis=0)\n",
    "    vwind.append(preds[None, :, 2:4, 3, :, :], axis=0)\n",
    "    geo.append(preds[None, :, 2:4, 4, :, :], axis=0)"
   ]
  },
  {
   "cell_type": "code",
   "execution_count": 13,
   "id": "49b4be43b8c49a1c",
   "metadata": {
    "ExecuteTime": {
     "end_time": "2024-04-14T12:59:50.581074Z",
     "start_time": "2024-04-14T12:59:50.496947Z"
    }
   },
   "outputs": [
    {
     "data": {
      "text/plain": [
       "<zarr.hierarchy.Group '/'>"
      ]
     },
     "execution_count": 13,
     "metadata": {},
     "output_type": "execute_result"
    }
   ],
   "source": [
    "zarr.consolidate_metadata(store)"
   ]
  },
  {
   "cell_type": "code",
   "execution_count": 14,
   "id": "efbb862e",
   "metadata": {},
   "outputs": [
    {
     "data": {
      "text/plain": [
       "'/home/mksoll/DL4WeatherAndClimate/notebooks/preds_2020_more_steps.zarr.zip'"
      ]
     },
     "execution_count": 14,
     "metadata": {},
     "output_type": "execute_result"
    }
   ],
   "source": [
    "import shutil\n",
    "shutil.make_archive('preds_2020_more_steps.zarr', 'zip', './preds.zarr')"
   ]
  }
 ],
 "metadata": {
  "kernelspec": {
   "display_name": "Python 3 (ipykernel)",
   "language": "python",
   "name": "python3"
  },
  "language_info": {
   "codemirror_mode": {
    "name": "ipython",
    "version": 3
   },
   "file_extension": ".py",
   "mimetype": "text/x-python",
   "name": "python",
   "nbconvert_exporter": "python",
   "pygments_lexer": "ipython3",
   "version": "3.8.10"
  }
 },
 "nbformat": 4,
 "nbformat_minor": 5
}
