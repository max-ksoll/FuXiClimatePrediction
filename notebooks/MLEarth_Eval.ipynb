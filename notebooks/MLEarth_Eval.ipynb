{
 "cells": [
  {
   "cell_type": "code",
   "source": [
    "import os\n",
    "import sys"
   ],
   "metadata": {
    "id": "-TbKCiVYSh9m"
   },
   "id": "-TbKCiVYSh9m",
   "execution_count": null,
   "outputs": []
  },
  {
   "cell_type": "code",
   "execution_count": null,
   "id": "f361a7ba-fa4f-49a8-a3cc-5113f7eb3430",
   "metadata": {
    "id": "f361a7ba-fa4f-49a8-a3cc-5113f7eb3430"
   },
   "outputs": [],
   "source": [
    "!pip install --quiet git+https://github.com/google-research/weatherbench2.git\n",
    "!pip install --quiet Cartopy\n",
    "if os.path.isdir('DL4WeatherAndClimate'):\n",
    "  !rm -rf DL4WeatherAndClimate\n",
    "!git clone --depth 1 --branch main https://github.com/max-ksoll/DL4WeatherAndClimate.git\n",
    "!pip install -r /content/DL4WeatherAndClimate/requirements.txt\n",
    "sys.path.append('/content/DL4WeatherAndClimate')"
   ]
  },
  {
   "cell_type": "code",
   "execution_count": null,
   "id": "70b4fd7a-d599-4d82-986f-4ec51743e98c",
   "metadata": {
    "id": "70b4fd7a-d599-4d82-986f-4ec51743e98c"
   },
   "outputs": [],
   "source": [
    "import apache_beam\n",
    "import weatherbench2\n",
    "import xarray as xr\n",
    "import matplotlib.pyplot as plt\n",
    "import numpy as np\n",
    "import cartopy.feature as cfeature\n",
    "import cartopy.crs as ccrs\n",
    "import pandas as pd\n",
    "import matplotlib.pyplot as plt\n",
    "import cv2\n",
    "import torch\n",
    "import zarr\n",
    "\n",
    "from tqdm import tqdm\n",
    "from google.colab import auth, drive\n",
    "from weatherbench2 import config\n",
    "from weatherbench2.metrics import MSE, ACC\n",
    "from weatherbench2.regions import SliceRegion, ExtraTropicalRegion\n",
    "from weatherbench2.evaluation import evaluate_in_memory, evaluate_with_beam\n",
    "from torch.utils.data import DataLoader\n",
    "from DL4WeatherAndClimate.src.era5_dataset import ERA5Dataset, TimeMode\n",
    "from DL4WeatherAndClimate.src.fuxi_ligthning import FuXi"
   ]
  },
  {
   "cell_type": "code",
   "execution_count": null,
   "id": "f6b59ae2-4ca9-4b93-8e9f-6ac2304bad50",
   "metadata": {
    "id": "f6b59ae2-4ca9-4b93-8e9f-6ac2304bad50",
    "colab": {
     "base_uri": "https://localhost:8080/"
    },
    "outputId": "2409f987-e70e-40ac-c6a2-2f1316d5ab71"
   },
   "outputs": [
    {
     "output_type": "stream",
     "name": "stdout",
     "text": [
      "Drive already mounted at /content/drive; to attempt to forcibly remount, call drive.mount(\"/content/drive\", force_remount=True).\n"
     ]
    }
   ],
   "source": [
    "auth.authenticate_user()\n",
    "drive.mount('/content/drive')"
   ]
  },
  {
   "cell_type": "code",
   "execution_count": null,
   "id": "4b6ec0cb-928f-4e50-a077-802b5a51e469",
   "metadata": {
    "id": "4b6ec0cb-928f-4e50-a077-802b5a51e469"
   },
   "outputs": [],
   "source": [
    "forecast_path = '/content/preds.zarr'\n",
    "obs_path = 'gs://gcp-public-data-arco-era5/ar/1959-2022-6h-240x121_equiangular_with_poles_conservative.zarr'\n",
    "climatology_path = 'gs://weatherbench2/datasets/era5-hourly-climatology/1990-2017_6h_240x121_equiangular_with_poles_conservative.zarr'"
   ]
  },
  {
   "cell_type": "code",
   "source": [
    "bs = 1\n",
    "autoregression_steps = 10*4\n",
    "timesteps_cnt = 2\n",
    "levels_cnt = 2\n",
    "vars_cnt = 5\n",
    "lats_cnt = 121\n",
    "lons_cnt = 240\n",
    "start_time = \"2019-12-31T12:00:00\"\n",
    "end_time = \"2020-12-31T18:00:00\"\n",
    "model_path = \"/content/DL4WeatherAndClimate/tracked_models/model.ckpt\"\n",
    "model = FuXi.load_from_checkpoint(model_path)\n",
    "model: FuXi\n",
    "model.set_autoregression_steps(autoregression_steps)\n",
    "dataset = ERA5Dataset(\n",
    "    obs_path,\n",
    "    TimeMode.BETWEEN,\n",
    "    start_time=start_time,\n",
    "    end_time=end_time,\n",
    "    max_autoregression_steps=autoregression_steps,\n",
    "    zarr_col_names='gcloud',\n",
    "    use_xarray=True,\n",
    "    ds=xr.open_dataset(obs_path)\n",
    ")\n",
    "dl = DataLoader(dataset, batch_size=bs, shuffle=False, num_workers=0, pin_memory=True)"
   ],
   "metadata": {
    "id": "eWMsMyZTUCwa"
   },
   "id": "eWMsMyZTUCwa",
   "execution_count": null,
   "outputs": []
  },
  {
   "cell_type": "code",
   "source": [
    "store = zarr.DirectoryStore(forecast_path)\n",
    "root = zarr.group(store=store, overwrite=True)\n",
    "\n",
    "latitude = root.create_dataset('latitude', shape=(0,), chunks=(lats_cnt,), dtype=np.float64, fill_value=-99999)\n",
    "levels = root.create_dataset('level', shape=(0,), chunks=(levels_cnt,), dtype=np.int32, fill_value=-99)\n",
    "longitude = root.create_dataset('longitude', shape=(0,), chunks=(lons_cnt,), dtype=np.float64, fill_value=-99999)\n",
    "pred_timedelta = root.create_dataset('prediction_timedelta', shape=(0,), chunks=(autoregression_steps,),\n",
    "                                     dtype='timedelta64[ns]')\n",
    "\n",
    "time = root.create_dataset('time', shape=(0,), chunks=(timesteps_cnt,), dtype='datetime64[ns]', fill_value=-99999)\n",
    "\n",
    "temp = root.create_dataset('temperature', shape=(0, autoregression_steps, levels_cnt, lats_cnt, lons_cnt),\n",
    "                           dtype=np.float64,\n",
    "                           chunks=(16, autoregression_steps, levels_cnt, lats_cnt, lons_cnt), fill_value=-99999)\n",
    "temp.attrs['_ARRAY_DIMENSIONS'] = ['time', 'prediction_timedelta', 'level', 'latitude', 'longitude']\n",
    "humid = root.create_dataset('specific_humidity', shape=(0, autoregression_steps, levels_cnt, lats_cnt, lons_cnt),\n",
    "                            dtype=np.float64,\n",
    "                            chunks=(16, autoregression_steps, levels_cnt, lats_cnt, lons_cnt), fill_value=-99999)\n",
    "humid.attrs['_ARRAY_DIMENSIONS'] = ['time', 'prediction_timedelta', 'level', 'latitude', 'longitude']\n",
    "uwind = root.create_dataset('u_component_of_wind', shape=(0, autoregression_steps, levels_cnt, lats_cnt, lons_cnt),\n",
    "                            dtype=np.float64,\n",
    "                            chunks=(16, autoregression_steps, levels_cnt, lats_cnt, lons_cnt), fill_value=-99999)\n",
    "uwind.attrs['_ARRAY_DIMENSIONS'] = ['time', 'prediction_timedelta', 'level', 'latitude', 'longitude']\n",
    "vwind = root.create_dataset('v_component_of_wind', shape=(0, autoregression_steps, levels_cnt, lats_cnt, lons_cnt),\n",
    "                            dtype=np.float64,\n",
    "                            chunks=(16, autoregression_steps, levels_cnt, lats_cnt, lons_cnt), fill_value=-99999)\n",
    "vwind.attrs['_ARRAY_DIMENSIONS'] = ['time', 'prediction_timedelta', 'level', 'latitude', 'longitude']\n",
    "geo = root.create_dataset('geopotential', shape=(0, autoregression_steps, levels_cnt, lats_cnt, lons_cnt),\n",
    "                          dtype=np.float64,\n",
    "                          chunks=(16, autoregression_steps, levels_cnt, lats_cnt, lons_cnt), fill_value=-99999)\n",
    "geo.attrs['_ARRAY_DIMENSIONS'] = ['time', 'prediction_timedelta', 'level', 'latitude', 'longitude']\n",
    "\n",
    "latitude.append(np.linspace(-90, 90, lats_cnt))\n",
    "latitude.attrs['_ARRAY_DIMENSIONS'] = ['latitude']\n",
    "\n",
    "levels.append([500, 850])\n",
    "levels.attrs['_ARRAY_DIMENSIONS'] = ['level']\n",
    "\n",
    "longitude.append(np.linspace(0, 358.5, lons_cnt))\n",
    "longitude.attrs['_ARRAY_DIMENSIONS'] = ['longitude']\n",
    "\n",
    "timedelta = [np.timedelta64(6 * i, 'h') for i in range(autoregression_steps)]\n",
    "pred_timedelta.append(np.array(timedelta))\n",
    "pred_timedelta.attrs['_ARRAY_DIMENSIONS'] = ['prediction_timedelta']\n",
    "\n",
    "times = [np.datetime64(start_time) + 2* timedelta[1] + i * timedelta[1] for i in range(timesteps_cnt)]\n",
    "time.append(times)\n",
    "time.attrs['_ARRAY_DIMENSIONS'] = ['time']"
   ],
   "metadata": {
    "id": "QbVMUxujUfSm"
   },
   "id": "QbVMUxujUfSm",
   "execution_count": null,
   "outputs": []
  },
  {
   "cell_type": "code",
   "source": [
    "mins = torch.Tensor([193.48901, -3.3835982e-05, -65.45247, -96.98215, -6838.8906])\n",
    "maxs = torch.Tensor([324.80637, 0.029175894, 113.785934, 89.834595, 109541.625])\n",
    "max_minus_min = maxs - mins\n",
    "mins = mins[:, None, None]\n",
    "max_minus_min = max_minus_min[:, None, None]\n",
    "\n",
    "for idx, batch in tqdm(enumerate(dl)):\n",
    "    if idx > timesteps_cnt-1:\n",
    "        break\n",
    "    #x,y = batch\n",
    "    #batch = x.cuda(), y.cuda()\n",
    "    out = model.forward(batch)[0, :, :, :, :]\n",
    "    preds = torch.reshape(out, (autoregression_steps, vars_cnt, out.shape[1] // vars_cnt, lats_cnt, lons_cnt))\n",
    "    preds = (preds*max_minus_min+mins).numpy()\n",
    "    temp.append(preds[None, :, 2:4, 0, :, :], axis=0)\n",
    "    humid.append(preds[None, :, 2:4, 1, :, :], axis=0)\n",
    "    uwind.append(preds[None, :, 2:4, 2, :, :], axis=0)\n",
    "    vwind.append(preds[None, :, 2:4, 3, :, :], axis=0)\n",
    "    geo.append(preds[None, :, 2:4, 4, :, :], axis=0)\n",
    "\n",
    "zarr.consolidate_metadata(store)"
   ],
   "metadata": {
    "colab": {
     "base_uri": "https://localhost:8080/"
    },
    "id": "hClwJce4Un-7",
    "outputId": "a03550ec-59f3-4da0-8122-89647589bbdb"
   },
   "id": "hClwJce4Un-7",
   "execution_count": null,
   "outputs": [
    {
     "output_type": "stream",
     "name": "stderr",
     "text": [
      "2it [04:38, 139.48s/it]\n"
     ]
    },
    {
     "output_type": "execute_result",
     "data": {
      "text/plain": [
       "<zarr.hierarchy.Group '/'>"
      ]
     },
     "metadata": {},
     "execution_count": 13
    }
   ]
  },
  {
   "cell_type": "code",
   "execution_count": null,
   "id": "4d647baf-6711-4e8e-8d36-ec821fed6c32",
   "metadata": {
    "id": "4d647baf-6711-4e8e-8d36-ec821fed6c32"
   },
   "outputs": [],
   "source": [
    "climatology = xr.open_zarr(climatology_path)\n",
    "paths = config.Paths(\n",
    "    forecast=forecast_path,\n",
    "    obs=obs_path,\n",
    "    output_dir='./',   # Directory to save evaluation results\n",
    ")\n",
    "selection = config.Selection(\n",
    "    variables=[\n",
    "        'temperature',\n",
    "        'specific_humidity',\n",
    "        'u_component_of_wind',\n",
    "        'v_component_of_wind',\n",
    "        'geopotential'\n",
    "    ],\n",
    "    levels=[850],\n",
    "    time_slice=slice('2020-01-01', '2020-01-01'),\n",
    ")\n",
    "data_config = config.Data(selection=selection, paths=paths)\n",
    "\n",
    "eval_configs = {\n",
    "  'deterministic': config.Eval(\n",
    "      metrics={\n",
    "          'mse': MSE(),\n",
    "          'acc': ACC(climatology=climatology)\n",
    "      },\n",
    "  )\n",
    "}\n",
    "\n",
    "regions = {\n",
    "    'global': SliceRegion(),\n",
    "    #'asia': SliceRegion(lat_slice=slice(10, 80), lon_slice=slice(-170+180, 25+180)),\n",
    "    #'africa': SliceRegion(lat_slice=slice(-35, 37), lon_slice=slice(-17+180, 17+180)),\n",
    "    #'europe': SliceRegion(lat_slice=slice(35, 73), lon_slice=slice(-25+180, 65+180)),\n",
    "    #'north_america': SliceRegion(lat_slice=slice(7, 84), lon_slice=slice(-180+180, -20+180)),\n",
    "    #'south_america': SliceRegion(lat_slice=slice(-55, 12), lon_slice=slice(-81+180, -35+180)),\n",
    "    #'australia': SliceRegion(lat_slice=slice(-40, -10), lon_slice=slice(280, 165+180)),\n",
    "}\n",
    "\n",
    "eval_configs = {\n",
    "  'deterministic': config.Eval(\n",
    "      metrics={\n",
    "          'mse': MSE(),\n",
    "          'acc': ACC(climatology=climatology)\n",
    "      },\n",
    "      regions=regions\n",
    "  )\n",
    "}"
   ]
  },
  {
   "cell_type": "code",
   "execution_count": null,
   "id": "b0a201dd-c32a-4df1-b8f2-09be12781016",
   "metadata": {
    "id": "b0a201dd-c32a-4df1-b8f2-09be12781016"
   },
   "outputs": [],
   "source": [
    "evaluate_in_memory(data_config, eval_configs)"
   ]
  },
  {
   "cell_type": "code",
   "execution_count": null,
   "id": "a4f9d35b-7907-423f-b0fa-15a89e03dcd1",
   "metadata": {
    "id": "a4f9d35b-7907-423f-b0fa-15a89e03dcd1"
   },
   "outputs": [],
   "source": [
    "results = xr.open_dataset('./deterministic.nc')"
   ]
  },
  {
   "cell_type": "code",
   "source": [
    "x = [1 + 0.25*i for i in range(40)]\n",
    "x_plot = [1,2,3,4,5,6,7,8,9,10]\n",
    "\n",
    "fig = plt.figure()\n",
    "ax = plt.subplot(111)\n",
    "\n",
    "for variable in [\"temperature\", \"specific_humidity\", \"u_component_of_wind\", \"v_component_of_wind\", \"geopotential\"]:\n",
    "    y = np.array(results[variable].sel(metric='acc', region='global')).flatten()\n",
    "    #print(y)\n",
    "    ax.plot(x,y, label=variable)\n",
    "\n",
    "plt.xticks(x_plot)\n",
    "plt.xlabel(\"Day\")\n",
    "plt.ylabel(\"ACC\")\n",
    "plt.title(f\"ACC for 2020-01-01 to 2020-01-10\")\n",
    "\n",
    "box = ax.get_position()\n",
    "ax.set_position([box.x0, box.y0 + box.height * 0.15,box.width, box.height * 0.85])\n",
    "\n",
    "# Put a legend below current axis\n",
    "ax.legend(loc='upper center', bbox_to_anchor=(0.5, -0.15),\n",
    "          fancybox=True, shadow=True, ncol=3)\n",
    "\n",
    "plt.savefig(f\"/content/drive/MyDrive/MLEarth/acc.png\")\n",
    "plt.show()\n",
    "plt.close()"
   ],
   "metadata": {
    "id": "JWocWvs9TBjp"
   },
   "id": "JWocWvs9TBjp",
   "execution_count": null,
   "outputs": []
  },
  {
   "cell_type": "code",
   "source": [
    "x = [1 + 0.25*i for i in range(40)]\n",
    "x_plot = [1,2,3,4,5,6,7,8,9,10]\n",
    "\n",
    "for variable in [\"temperature\", \"specific_humidity\", \"u_component_of_wind\", \"v_component_of_wind\"]:\n",
    "    y = np.sqrt(np.array(results[variable].sel(metric='mse', region='global')).flatten())\n",
    "    plt.plot(x,y, label=variable)\n",
    "\n",
    "    plt.xticks(x_plot)\n",
    "    plt.xlabel(\"Day\")\n",
    "    plt.ylabel(\"RMSE\")\n",
    "    plt.title(f\"RMSE {variable} for 2020-01-01 to 2020-01-10\")\n",
    "    plt.savefig(f\"/content/drive/MyDrive/MLEarth/rmse_{variable}.png\")\n",
    "    plt.show()\n",
    "    plt.close()"
   ],
   "metadata": {
    "id": "VRox3d6RV9dz"
   },
   "id": "VRox3d6RV9dz",
   "execution_count": null,
   "outputs": []
  },
  {
   "cell_type": "code",
   "source": [
    "regions = [\"asia\", \"africa\", \"europe\", \"north_america\", \"australia\", \"south_america\"]\n",
    "cmap = plt.cm.viridis\n",
    "colors = cmap(np.linspace(0, 1, len(results.keys())))\n",
    "\n",
    "x_axis = np.arange(len(regions))\n",
    "bar_width = 0.15  # Width of the bars\n",
    "offset = bar_width * (len(results) - 1) / 2  # Offset to center the bars around the x ticks\n",
    "\n",
    "# Create a bar plot\n",
    "plt.figure(figsize=(10, 6))  # Making the plot larger than the default\n",
    "for idx, variable in enumerate(results):\n",
    "    accs = [np.mean(results[variable].sel(region=region, metric='acc')) for region in regions]  # Adjust the data extraction as per your data structure\n",
    "    plt.bar(x_axis - offset + bar_width * idx, accs, width=bar_width, label=variable.replace('_', ' ').capitalize(), color=colors[idx])\n",
    "\n",
    "# Enhancing the plot\n",
    "plt.xticks(x_axis, [region.replace('_', ' ').title() for region in regions], rotation=45)  # Rotate x labels for better readability\n",
    "plt.xlabel('Region', fontsize=12)  # Larger font size for axis label\n",
    "plt.ylabel('ACC', fontsize=12)  # Larger font size for axis label\n",
    "plt.title('Average ACC by Region and Variable', fontsize=14)  # Adding a title\n",
    "\n",
    "# Adding grid lines for better readability\n",
    "plt.grid(True, which='both', linestyle='--', linewidth=0.5, axis='y', alpha=0.4)\n",
    "\n",
    "# Adjusting plot layout to make space for the legend below the plot\n",
    "plt.tight_layout(rect=[0, 0.1, 1, 1])\n",
    "\n",
    "# Adding legend below the plot\n",
    "plt.legend(loc='upper center', bbox_to_anchor=(0.5, -0.35), fancybox=True, shadow=True, ncol=len(results))\n",
    "\n",
    "# Display the improved plot\n",
    "plt.savefig(f\"/content/drive/MyDrive/MLEarth/barplot_acc.png\")\n",
    "plt.show()"
   ],
   "metadata": {
    "colab": {
     "base_uri": "https://localhost:8080/",
     "height": 593
    },
    "id": "5nXch9piuJJq",
    "outputId": "1b4d5c97-31ea-4154-9d6e-63e2dc2031ee"
   },
   "id": "5nXch9piuJJq",
   "execution_count": null,
   "outputs": [
    {
     "output_type": "display_data",
     "data": {
      "text/plain": [
       "<Figure size 1000x600 with 1 Axes>"
      ],
      "image/png": "[encoded data removed]"
     },
     "metadata": {}
    }
   ]
  },
  {
   "cell_type": "code",
   "source": [
    "extreme_values = dict()\n",
    "\n",
    "ds_obs = xr.open_dataset(obs_path)\n",
    "ds_forecast = xr.open_dataset(forecast_path)\n",
    "ds_forecast['time'] = ds_forecast['time'] + np.timedelta64(6*39, 'h')\n",
    "common_times = np.intersect1d(ds_obs['time'], ds_forecast['time'])\n",
    "ds_obs = ds_obs.sel(time=common_times)\n",
    "new_lat = np.linspace(-90, 90, 180)  # 180 neue Breitengrade\n",
    "new_lon = np.linspace(0, 360, 360)  # 360 neue Längengrade\n",
    "for variable in [\"temperature\", \"specific_humidity\", \"u_component_of_wind\", \"v_component_of_wind\", \"geopotential\"]:\n",
    "  # Interpolation der Beobachtungsdaten auf das neue Koordinatensystem\n",
    "  obs = ds_obs[variable].sel(level=850)\n",
    "  obs = obs.interp(latitude=new_lat, longitude=new_lon, method='quadratic', kwargs={\"fill_value\": \"extrapolate\"})\n",
    "  # Interpolation der Vorhersagedaten auf das neue Koordinatensystem\n",
    "  forecast = ds_forecast[variable].isel(prediction_timedelta=39, level=1)\n",
    "  forecast = forecast.interp(latitude=new_lat, longitude=new_lon, method='linear', kwargs={\"fill_value\": \"extrapolate\"})\n",
    "  # Differenz und durchschnittliche Differenz berechnen\n",
    "  difference = obs - forecast\n",
    "  average_difference = difference.mean(dim='time').transpose('latitude', 'longitude')\n",
    "  average_difference[:2]=0\n",
    "  average_difference[-2:]=0\n",
    "  extreme_values[variable] = np.array(average_difference).max().item()\n",
    "  print(f\"{variable} {extreme_values[variable]}\")"
   ],
   "metadata": {
    "id": "aa1JeTTXIvVI",
    "outputId": "86b55b29-0468-4fad-f428-c34322e4be63",
    "colab": {
     "base_uri": "https://localhost:8080/"
    }
   },
   "id": "aa1JeTTXIvVI",
   "execution_count": null,
   "outputs": [
    {
     "output_type": "stream",
     "name": "stderr",
     "text": [
      "/usr/local/lib/python3.10/dist-packages/xarray/backends/plugins.py:159: RuntimeWarning: 'h5netcdf' fails while guessing\n",
      "  warnings.warn(f\"{engine!r} fails while guessing\", RuntimeWarning)\n",
      "/usr/local/lib/python3.10/dist-packages/xarray/backends/plugins.py:159: RuntimeWarning: 'scipy' fails while guessing\n",
      "  warnings.warn(f\"{engine!r} fails while guessing\", RuntimeWarning)\n"
     ]
    },
    {
     "output_type": "stream",
     "name": "stdout",
     "text": [
      "temperature 14.601201108136905\n",
      "specific_humidity 0.008576997574097994\n",
      "u_component_of_wind 21.040651040977806\n",
      "v_component_of_wind 32.34058443756905\n",
      "geopotential 1667.0990396236084\n"
     ]
    }
   ]
  },
  {
   "cell_type": "code",
   "source": [
    "def get_units(variable):\n",
    "    units = {\n",
    "        'temperature': 'K',  # Kelvin\n",
    "        'specific_humidity': 'kg/kg',  # Kilogramm pro Kilogramm\n",
    "        'u_component_of_wind': 'm/s',  # Meter pro Sekunde\n",
    "        'v_component_of_wind': 'm/s',  # Meter pro Sekunde\n",
    "        'geopotential': 'm²/s²'  # Quadratmeter pro Quadratsekunde\n",
    "    }\n",
    "    if variable in units:\n",
    "        return units.get(variable, None)\n",
    "\n",
    "def getExtrem(variable):\n",
    "    return extreme_values.get(variable, None)"
   ],
   "metadata": {
    "id": "C3PpSVaoGDo5"
   },
   "id": "C3PpSVaoGDo5",
   "execution_count": null,
   "outputs": []
  },
  {
   "cell_type": "code",
   "source": [
    "def plot_average_difference_over_time(obs_path, forecast_path, variable, prediction_timedelta):\n",
    "    # Daten für die Beobachtung laden und vorbereiten\n",
    "    ds_obs = xr.open_dataset(obs_path)\n",
    "    ds_forecast = xr.open_dataset(forecast_path)\n",
    "\n",
    "    new_lat = np.linspace(-90, 90, 180)  # 180 neue Breitengrade\n",
    "    new_lon = np.linspace(0, 360, 360)  # 360 neue Längengrade\n",
    "\n",
    "    # Daten für die Vorhersage laden und vorbereiten\n",
    "\n",
    "    ds_forecast.coords['longitude'] = (ds_forecast.coords['longitude'])\n",
    "    ds_forecast['time'] = ds_forecast['time'] + np.timedelta64(6*prediction_timedelta, 'h')\n",
    "\n",
    "    common_times = np.intersect1d(ds_obs['time'], ds_forecast['time'])\n",
    "    ds_obs = ds_obs.sel(time=common_times)\n",
    "\n",
    "\n",
    "    # Interpolation der Beobachtungsdaten auf das neue Koordinatensystem\n",
    "    obs = ds_obs[variable].sel(level=850)\n",
    "    obs = obs.interp(latitude=new_lat, longitude=new_lon, method='quadratic', kwargs={\"fill_value\": \"extrapolate\"})\n",
    "\n",
    "    # Interpolation der Vorhersagedaten auf das neue Koordinatensystem\n",
    "    forecast = ds_forecast[variable].isel(prediction_timedelta=prediction_timedelta, level=1)\n",
    "    forecast = forecast.interp(latitude=new_lat, longitude=new_lon, method='linear', kwargs={\"fill_value\": \"extrapolate\"})\n",
    "\n",
    "    # Differenz und durchschnittliche Differenz berechnen\n",
    "    difference = obs - forecast\n",
    "\n",
    "    average_difference = difference.mean(dim='time').transpose('latitude', 'longitude')\n",
    "    average_difference[0]=0\n",
    "    average_difference[1]=0\n",
    "    average_difference[179]=0\n",
    "    average_difference[178]=0\n",
    "\n",
    "\n",
    "    # Karte plotten\n",
    "    fig, ax = plt.subplots(figsize=(12, 8), subplot_kw={'projection': ccrs.Robinson()})\n",
    "    ax.coastlines()\n",
    "\n",
    "    # Landflächen grau darstellen, wenn unter 850 hPa\n",
    "\n",
    "    # Daten plotten. ,vmin=-getExtrem(variable), vmax=getExtrem(variable)\n",
    "    im = average_difference.plot(ax=ax, add_colorbar=False, transform=ccrs.PlateCarree(), cmap='bwr',vmin=-getExtrem(variable), vmax=getExtrem(variable))\n",
    "    plt.colorbar(im, ax=ax, orientation='horizontal', shrink=0.5).set_label(f'bias [{get_units(variable)}]')\n",
    "    ax.set_title(f'')\n",
    "    os.makedirs(f'/content/drive/MyDrive/MLEarth/{variable}', exist_ok=True)\n",
    "    plt.savefig(f'/content/drive/MyDrive/MLEarth/{variable}/FUXI{variable.title()}-{prediction_timedelta/4+0.25}days.png')\n",
    "    plt.close()\n",
    "    #plt.show()\n",
    "    print(f'finished: /content/drive/MyDrive/MLEarth/{variable}/FUXI{variable.title()}-{prediction_timedelta/4+0.25}days.png')\n",
    "\n",
    "plot_average_difference_over_time(obs_path,forecast_path, 'specific_humidity', 4*1 - 1)\n",
    "plot_average_difference_over_time(obs_path,forecast_path, 'specific_humidity', 4*3 - 1)\n",
    "plot_average_difference_over_time(obs_path,forecast_path, 'specific_humidity', 4*7 - 1)\n",
    "plot_average_difference_over_time(obs_path,forecast_path, 'specific_humidity', 4*10 - 1)\n",
    "\n",
    "plot_average_difference_over_time(obs_path,forecast_path, 'temperature', 4*1 - 1)\n",
    "plot_average_difference_over_time(obs_path,forecast_path, 'temperature', 4*3 - 1)\n",
    "plot_average_difference_over_time(obs_path,forecast_path, 'temperature', 4*7 - 1)\n",
    "plot_average_difference_over_time(obs_path,forecast_path, 'temperature', 4*10 - 1)\n",
    "\n",
    "plot_average_difference_over_time(obs_path,forecast_path, 'u_component_of_wind', 4*1 - 1)\n",
    "plot_average_difference_over_time(obs_path,forecast_path, 'u_component_of_wind', 4*3 - 1)\n",
    "plot_average_difference_over_time(obs_path,forecast_path, 'u_component_of_wind', 4*7 - 1)\n",
    "plot_average_difference_over_time(obs_path,forecast_path, 'u_component_of_wind', 4*10 - 1)\n",
    "\n",
    "plot_average_difference_over_time(obs_path,forecast_path, 'v_component_of_wind', 4*1 - 1)\n",
    "plot_average_difference_over_time(obs_path,forecast_path, 'v_component_of_wind', 4*3 - 1)\n",
    "plot_average_difference_over_time(obs_path,forecast_path, 'v_component_of_wind', 4*7 - 1)\n",
    "plot_average_difference_over_time(obs_path,forecast_path, 'v_component_of_wind', 4*10 - 1)\n",
    "\n",
    "plot_average_difference_over_time(obs_path,forecast_path, 'geopotential', 4*1 - 1)\n",
    "plot_average_difference_over_time(obs_path,forecast_path, 'geopotential', 4*3 - 1)\n",
    "plot_average_difference_over_time(obs_path,forecast_path, 'geopotential', 4*7 - 1)\n",
    "plot_average_difference_over_time(obs_path,forecast_path, 'geopotential', 4*10 - 1)"
   ],
   "metadata": {
    "id": "MfrcjoXVGgsq",
    "colab": {
     "base_uri": "https://localhost:8080/"
    },
    "outputId": "d90c6eb6-e7ef-4cd8-bcb0-90996e9f886a"
   },
   "id": "MfrcjoXVGgsq",
   "execution_count": null,
   "outputs": [
    {
     "output_type": "stream",
     "name": "stderr",
     "text": [
      "/usr/local/lib/python3.10/dist-packages/xarray/backends/plugins.py:159: RuntimeWarning: 'h5netcdf' fails while guessing\n",
      "  warnings.warn(f\"{engine!r} fails while guessing\", RuntimeWarning)\n",
      "/usr/local/lib/python3.10/dist-packages/xarray/backends/plugins.py:159: RuntimeWarning: 'scipy' fails while guessing\n",
      "  warnings.warn(f\"{engine!r} fails while guessing\", RuntimeWarning)\n"
     ]
    },
    {
     "output_type": "stream",
     "name": "stdout",
     "text": [
      "finished: /content/drive/MyDrive/MLEarth/specific_humidity/FUXISpecific_Humidity-1.0days.png\n"
     ]
    },
    {
     "output_type": "stream",
     "name": "stderr",
     "text": [
      "/usr/local/lib/python3.10/dist-packages/xarray/backends/plugins.py:159: RuntimeWarning: 'h5netcdf' fails while guessing\n",
      "  warnings.warn(f\"{engine!r} fails while guessing\", RuntimeWarning)\n",
      "/usr/local/lib/python3.10/dist-packages/xarray/backends/plugins.py:159: RuntimeWarning: 'scipy' fails while guessing\n",
      "  warnings.warn(f\"{engine!r} fails while guessing\", RuntimeWarning)\n"
     ]
    },
    {
     "output_type": "stream",
     "name": "stdout",
     "text": [
      "finished: /content/drive/MyDrive/MLEarth/specific_humidity/FUXISpecific_Humidity-3.0days.png\n"
     ]
    },
    {
     "output_type": "stream",
     "name": "stderr",
     "text": [
      "/usr/local/lib/python3.10/dist-packages/xarray/backends/plugins.py:159: RuntimeWarning: 'h5netcdf' fails while guessing\n",
      "  warnings.warn(f\"{engine!r} fails while guessing\", RuntimeWarning)\n",
      "/usr/local/lib/python3.10/dist-packages/xarray/backends/plugins.py:159: RuntimeWarning: 'scipy' fails while guessing\n",
      "  warnings.warn(f\"{engine!r} fails while guessing\", RuntimeWarning)\n"
     ]
    },
    {
     "output_type": "stream",
     "name": "stdout",
     "text": [
      "finished: /content/drive/MyDrive/MLEarth/specific_humidity/FUXISpecific_Humidity-7.0days.png\n"
     ]
    },
    {
     "output_type": "stream",
     "name": "stderr",
     "text": [
      "/usr/local/lib/python3.10/dist-packages/xarray/backends/plugins.py:159: RuntimeWarning: 'h5netcdf' fails while guessing\n",
      "  warnings.warn(f\"{engine!r} fails while guessing\", RuntimeWarning)\n",
      "/usr/local/lib/python3.10/dist-packages/xarray/backends/plugins.py:159: RuntimeWarning: 'scipy' fails while guessing\n",
      "  warnings.warn(f\"{engine!r} fails while guessing\", RuntimeWarning)\n"
     ]
    },
    {
     "output_type": "stream",
     "name": "stdout",
     "text": [
      "finished: /content/drive/MyDrive/MLEarth/specific_humidity/FUXISpecific_Humidity-10.0days.png\n"
     ]
    },
    {
     "output_type": "stream",
     "name": "stderr",
     "text": [
      "/usr/local/lib/python3.10/dist-packages/xarray/backends/plugins.py:159: RuntimeWarning: 'h5netcdf' fails while guessing\n",
      "  warnings.warn(f\"{engine!r} fails while guessing\", RuntimeWarning)\n",
      "/usr/local/lib/python3.10/dist-packages/xarray/backends/plugins.py:159: RuntimeWarning: 'scipy' fails while guessing\n",
      "  warnings.warn(f\"{engine!r} fails while guessing\", RuntimeWarning)\n"
     ]
    },
    {
     "output_type": "stream",
     "name": "stdout",
     "text": [
      "finished: /content/drive/MyDrive/MLEarth/temperature/FUXITemperature-1.0days.png\n"
     ]
    },
    {
     "output_type": "stream",
     "name": "stderr",
     "text": [
      "/usr/local/lib/python3.10/dist-packages/xarray/backends/plugins.py:159: RuntimeWarning: 'h5netcdf' fails while guessing\n",
      "  warnings.warn(f\"{engine!r} fails while guessing\", RuntimeWarning)\n",
      "/usr/local/lib/python3.10/dist-packages/xarray/backends/plugins.py:159: RuntimeWarning: 'scipy' fails while guessing\n",
      "  warnings.warn(f\"{engine!r} fails while guessing\", RuntimeWarning)\n"
     ]
    },
    {
     "output_type": "stream",
     "name": "stdout",
     "text": [
      "finished: /content/drive/MyDrive/MLEarth/temperature/FUXITemperature-3.0days.png\n"
     ]
    },
    {
     "output_type": "stream",
     "name": "stderr",
     "text": [
      "/usr/local/lib/python3.10/dist-packages/xarray/backends/plugins.py:159: RuntimeWarning: 'h5netcdf' fails while guessing\n",
      "  warnings.warn(f\"{engine!r} fails while guessing\", RuntimeWarning)\n",
      "/usr/local/lib/python3.10/dist-packages/xarray/backends/plugins.py:159: RuntimeWarning: 'scipy' fails while guessing\n",
      "  warnings.warn(f\"{engine!r} fails while guessing\", RuntimeWarning)\n"
     ]
    },
    {
     "output_type": "stream",
     "name": "stdout",
     "text": [
      "finished: /content/drive/MyDrive/MLEarth/temperature/FUXITemperature-7.0days.png\n"
     ]
    },
    {
     "output_type": "stream",
     "name": "stderr",
     "text": [
      "/usr/local/lib/python3.10/dist-packages/xarray/backends/plugins.py:159: RuntimeWarning: 'h5netcdf' fails while guessing\n",
      "  warnings.warn(f\"{engine!r} fails while guessing\", RuntimeWarning)\n",
      "/usr/local/lib/python3.10/dist-packages/xarray/backends/plugins.py:159: RuntimeWarning: 'scipy' fails while guessing\n",
      "  warnings.warn(f\"{engine!r} fails while guessing\", RuntimeWarning)\n"
     ]
    },
    {
     "output_type": "stream",
     "name": "stdout",
     "text": [
      "finished: /content/drive/MyDrive/MLEarth/temperature/FUXITemperature-10.0days.png\n"
     ]
    },
    {
     "output_type": "stream",
     "name": "stderr",
     "text": [
      "/usr/local/lib/python3.10/dist-packages/xarray/backends/plugins.py:159: RuntimeWarning: 'h5netcdf' fails while guessing\n",
      "  warnings.warn(f\"{engine!r} fails while guessing\", RuntimeWarning)\n",
      "/usr/local/lib/python3.10/dist-packages/xarray/backends/plugins.py:159: RuntimeWarning: 'scipy' fails while guessing\n",
      "  warnings.warn(f\"{engine!r} fails while guessing\", RuntimeWarning)\n"
     ]
    },
    {
     "output_type": "stream",
     "name": "stdout",
     "text": [
      "finished: /content/drive/MyDrive/MLEarth/u_component_of_wind/FUXIU_Component_Of_Wind-1.0days.png\n"
     ]
    },
    {
     "output_type": "stream",
     "name": "stderr",
     "text": [
      "/usr/local/lib/python3.10/dist-packages/xarray/backends/plugins.py:159: RuntimeWarning: 'h5netcdf' fails while guessing\n",
      "  warnings.warn(f\"{engine!r} fails while guessing\", RuntimeWarning)\n",
      "/usr/local/lib/python3.10/dist-packages/xarray/backends/plugins.py:159: RuntimeWarning: 'scipy' fails while guessing\n",
      "  warnings.warn(f\"{engine!r} fails while guessing\", RuntimeWarning)\n"
     ]
    },
    {
     "output_type": "stream",
     "name": "stdout",
     "text": [
      "finished: /content/drive/MyDrive/MLEarth/u_component_of_wind/FUXIU_Component_Of_Wind-3.0days.png\n"
     ]
    },
    {
     "output_type": "stream",
     "name": "stderr",
     "text": [
      "/usr/local/lib/python3.10/dist-packages/xarray/backends/plugins.py:159: RuntimeWarning: 'h5netcdf' fails while guessing\n",
      "  warnings.warn(f\"{engine!r} fails while guessing\", RuntimeWarning)\n",
      "/usr/local/lib/python3.10/dist-packages/xarray/backends/plugins.py:159: RuntimeWarning: 'scipy' fails while guessing\n",
      "  warnings.warn(f\"{engine!r} fails while guessing\", RuntimeWarning)\n"
     ]
    },
    {
     "output_type": "stream",
     "name": "stdout",
     "text": [
      "finished: /content/drive/MyDrive/MLEarth/u_component_of_wind/FUXIU_Component_Of_Wind-7.0days.png\n"
     ]
    },
    {
     "output_type": "stream",
     "name": "stderr",
     "text": [
      "/usr/local/lib/python3.10/dist-packages/xarray/backends/plugins.py:159: RuntimeWarning: 'h5netcdf' fails while guessing\n",
      "  warnings.warn(f\"{engine!r} fails while guessing\", RuntimeWarning)\n",
      "/usr/local/lib/python3.10/dist-packages/xarray/backends/plugins.py:159: RuntimeWarning: 'scipy' fails while guessing\n",
      "  warnings.warn(f\"{engine!r} fails while guessing\", RuntimeWarning)\n"
     ]
    },
    {
     "output_type": "stream",
     "name": "stdout",
     "text": [
      "finished: /content/drive/MyDrive/MLEarth/u_component_of_wind/FUXIU_Component_Of_Wind-10.0days.png\n"
     ]
    },
    {
     "output_type": "stream",
     "name": "stderr",
     "text": [
      "/usr/local/lib/python3.10/dist-packages/xarray/backends/plugins.py:159: RuntimeWarning: 'h5netcdf' fails while guessing\n",
      "  warnings.warn(f\"{engine!r} fails while guessing\", RuntimeWarning)\n",
      "/usr/local/lib/python3.10/dist-packages/xarray/backends/plugins.py:159: RuntimeWarning: 'scipy' fails while guessing\n",
      "  warnings.warn(f\"{engine!r} fails while guessing\", RuntimeWarning)\n"
     ]
    },
    {
     "output_type": "stream",
     "name": "stdout",
     "text": [
      "finished: /content/drive/MyDrive/MLEarth/v_component_of_wind/FUXIV_Component_Of_Wind-1.0days.png\n"
     ]
    },
    {
     "output_type": "stream",
     "name": "stderr",
     "text": [
      "/usr/local/lib/python3.10/dist-packages/xarray/backends/plugins.py:159: RuntimeWarning: 'h5netcdf' fails while guessing\n",
      "  warnings.warn(f\"{engine!r} fails while guessing\", RuntimeWarning)\n",
      "/usr/local/lib/python3.10/dist-packages/xarray/backends/plugins.py:159: RuntimeWarning: 'scipy' fails while guessing\n",
      "  warnings.warn(f\"{engine!r} fails while guessing\", RuntimeWarning)\n"
     ]
    },
    {
     "output_type": "stream",
     "name": "stdout",
     "text": [
      "finished: /content/drive/MyDrive/MLEarth/v_component_of_wind/FUXIV_Component_Of_Wind-3.0days.png\n"
     ]
    },
    {
     "output_type": "stream",
     "name": "stderr",
     "text": [
      "/usr/local/lib/python3.10/dist-packages/xarray/backends/plugins.py:159: RuntimeWarning: 'h5netcdf' fails while guessing\n",
      "  warnings.warn(f\"{engine!r} fails while guessing\", RuntimeWarning)\n",
      "/usr/local/lib/python3.10/dist-packages/xarray/backends/plugins.py:159: RuntimeWarning: 'scipy' fails while guessing\n",
      "  warnings.warn(f\"{engine!r} fails while guessing\", RuntimeWarning)\n"
     ]
    },
    {
     "output_type": "stream",
     "name": "stdout",
     "text": [
      "finished: /content/drive/MyDrive/MLEarth/v_component_of_wind/FUXIV_Component_Of_Wind-7.0days.png\n"
     ]
    },
    {
     "output_type": "stream",
     "name": "stderr",
     "text": [
      "/usr/local/lib/python3.10/dist-packages/xarray/backends/plugins.py:159: RuntimeWarning: 'h5netcdf' fails while guessing\n",
      "  warnings.warn(f\"{engine!r} fails while guessing\", RuntimeWarning)\n",
      "/usr/local/lib/python3.10/dist-packages/xarray/backends/plugins.py:159: RuntimeWarning: 'scipy' fails while guessing\n",
      "  warnings.warn(f\"{engine!r} fails while guessing\", RuntimeWarning)\n"
     ]
    },
    {
     "output_type": "stream",
     "name": "stdout",
     "text": [
      "finished: /content/drive/MyDrive/MLEarth/v_component_of_wind/FUXIV_Component_Of_Wind-10.0days.png\n"
     ]
    },
    {
     "output_type": "stream",
     "name": "stderr",
     "text": [
      "/usr/local/lib/python3.10/dist-packages/xarray/backends/plugins.py:159: RuntimeWarning: 'h5netcdf' fails while guessing\n",
      "  warnings.warn(f\"{engine!r} fails while guessing\", RuntimeWarning)\n",
      "/usr/local/lib/python3.10/dist-packages/xarray/backends/plugins.py:159: RuntimeWarning: 'scipy' fails while guessing\n",
      "  warnings.warn(f\"{engine!r} fails while guessing\", RuntimeWarning)\n"
     ]
    },
    {
     "output_type": "stream",
     "name": "stdout",
     "text": [
      "finished: /content/drive/MyDrive/MLEarth/geopotential/FUXIGeopotential-1.0days.png\n"
     ]
    },
    {
     "output_type": "stream",
     "name": "stderr",
     "text": [
      "/usr/local/lib/python3.10/dist-packages/xarray/backends/plugins.py:159: RuntimeWarning: 'h5netcdf' fails while guessing\n",
      "  warnings.warn(f\"{engine!r} fails while guessing\", RuntimeWarning)\n",
      "/usr/local/lib/python3.10/dist-packages/xarray/backends/plugins.py:159: RuntimeWarning: 'scipy' fails while guessing\n",
      "  warnings.warn(f\"{engine!r} fails while guessing\", RuntimeWarning)\n"
     ]
    },
    {
     "output_type": "stream",
     "name": "stdout",
     "text": [
      "finished: /content/drive/MyDrive/MLEarth/geopotential/FUXIGeopotential-3.0days.png\n"
     ]
    },
    {
     "output_type": "stream",
     "name": "stderr",
     "text": [
      "/usr/local/lib/python3.10/dist-packages/xarray/backends/plugins.py:159: RuntimeWarning: 'h5netcdf' fails while guessing\n",
      "  warnings.warn(f\"{engine!r} fails while guessing\", RuntimeWarning)\n",
      "/usr/local/lib/python3.10/dist-packages/xarray/backends/plugins.py:159: RuntimeWarning: 'scipy' fails while guessing\n",
      "  warnings.warn(f\"{engine!r} fails while guessing\", RuntimeWarning)\n"
     ]
    },
    {
     "output_type": "stream",
     "name": "stdout",
     "text": [
      "finished: /content/drive/MyDrive/MLEarth/geopotential/FUXIGeopotential-7.0days.png\n"
     ]
    },
    {
     "output_type": "stream",
     "name": "stderr",
     "text": [
      "/usr/local/lib/python3.10/dist-packages/xarray/backends/plugins.py:159: RuntimeWarning: 'h5netcdf' fails while guessing\n",
      "  warnings.warn(f\"{engine!r} fails while guessing\", RuntimeWarning)\n",
      "/usr/local/lib/python3.10/dist-packages/xarray/backends/plugins.py:159: RuntimeWarning: 'scipy' fails while guessing\n",
      "  warnings.warn(f\"{engine!r} fails while guessing\", RuntimeWarning)\n"
     ]
    },
    {
     "output_type": "stream",
     "name": "stdout",
     "text": [
      "finished: /content/drive/MyDrive/MLEarth/geopotential/FUXIGeopotential-10.0days.png\n"
     ]
    }
   ]
  },
  {
   "cell_type": "code",
   "source": [
    "var_to_idx = {\n",
    "    \"temperature\": 0,\n",
    "    \"t\": 0,\n",
    "    \"specific_humidity\": 1,\n",
    "    \"q\": 1,\n",
    "    \"u_component_of_wind\": 2,\n",
    "    \"u\": 2,\n",
    "    \"v_component_of_wind\": 3,\n",
    "    \"v\": 3,\n",
    "    \"geopotential\": 4,\n",
    "    \"z\": 4\n",
    "}\n",
    "plot_mins = [-40 + 273.15, 0, -10, -30, -5000]\n",
    "plot_maxs = [30 + 273.15, 0.015, 30, 30, 100_000]\n",
    "ds_forecast = xr.open_dataset(forecast_path)\n",
    "ds_obs = xr.open_dataset(obs_path)\n",
    "ds_obs = ds_obs.sel(time=\"2020-01\")"
   ],
   "metadata": {
    "id": "V3LIoSaXMgXL",
    "colab": {
     "base_uri": "https://localhost:8080/"
    },
    "outputId": "56a08d04-7f90-4f84-d55b-5ab59c41211f"
   },
   "id": "V3LIoSaXMgXL",
   "execution_count": null,
   "outputs": [
    {
     "output_type": "stream",
     "name": "stderr",
     "text": [
      "/usr/local/lib/python3.10/dist-packages/xarray/backends/plugins.py:159: RuntimeWarning: 'h5netcdf' fails while guessing\n",
      "  warnings.warn(f\"{engine!r} fails while guessing\", RuntimeWarning)\n",
      "/usr/local/lib/python3.10/dist-packages/xarray/backends/plugins.py:159: RuntimeWarning: 'scipy' fails while guessing\n",
      "  warnings.warn(f\"{engine!r} fails while guessing\", RuntimeWarning)\n"
     ]
    }
   ]
  },
  {
   "cell_type": "code",
   "source": [
    "def save_forecast_timestep(variable, time_idx, pred_time_idx):\n",
    "    var_idx = var_to_idx[variable]\n",
    "\n",
    "    forecast = ds_forecast[variable].isel(time=time_idx).isel(prediction_timedelta=pred_time_idx).sel(level=850)\n",
    "    fig, ax = plt.subplots(figsize=(12, 8), subplot_kw={'projection': ccrs.PlateCarree()})\n",
    "    ax.coastlines()\n",
    "\n",
    "    im = forecast.plot(ax=ax, add_colorbar=False, transform=ccrs.PlateCarree(), vmin=plot_mins[var_idx], vmax=plot_maxs[var_idx])\n",
    "    cbar = plt.colorbar(im, ax=ax, orientation='vertical', shrink=0.5)\n",
    "    cbar.set_label(variable)\n",
    "\n",
    "    im.colorbar.set_label(variable)\n",
    "    time = np.datetime64(\"2020-01-01T00:00:00\") + np.timedelta64(time_idx, \"D\") + 6*np.timedelta64(pred_time_idx, \"h\")\n",
    "    ax.set_title(f'Prediction of {variable} on {time}')\n",
    "    fig.canvas.draw()\n",
    "    data = np.frombuffer(fig.canvas.buffer_rgba(), dtype=np.uint8)\n",
    "    data = data.reshape(fig.canvas.get_width_height()[::-1] + (4,))\n",
    "    data = cv2.cvtColor(data, cv2.COLOR_RGBA2BGR)\n",
    "    plt.close(fig)\n",
    "\n",
    "    return data\n",
    "\n",
    "\n",
    "fps = 12\n",
    "frame_size = (1920, 1080)\n",
    "for variable in [\"temperature\", \"specific_humidity\", \"u_component_of_wind\", \"v_component_of_wind\"]:\n",
    "    for time_idx in range(1):\n",
    "        os.makedirs(f'/content/drive/MyDrive/MLEarth/{variable}', exist_ok=True)\n",
    "        path = f\"/content/drive/MyDrive/MLEarth/{variable}/pred_{time_idx}\"\n",
    "        out = cv2.VideoWriter(path + '.mp4', cv2.VideoWriter_fourcc(*'mp4v'), fps, frame_size)\n",
    "        for pred_time_idx in tqdm(range(40)):\n",
    "            data = save_forecast_timestep(variable, time_idx, pred_time_idx)\n",
    "            bild_resized = cv2.resize(data, frame_size)\n",
    "            cv2.imwrite(path + f'_{pred_time_idx}.png', bild_resized)\n",
    "            out.write(bild_resized)\n",
    "        out.release()"
   ],
   "metadata": {
    "id": "TfZqFcgeMTw8",
    "colab": {
     "base_uri": "https://localhost:8080/"
    },
    "outputId": "2aea9726-9a34-48c4-c2bf-f1ff4e40319a"
   },
   "id": "TfZqFcgeMTw8",
   "execution_count": null,
   "outputs": [
    {
     "output_type": "stream",
     "name": "stderr",
     "text": [
      "100%|██████████| 40/40 [00:34<00:00,  1.14it/s]\n",
      "100%|██████████| 40/40 [00:53<00:00,  1.34s/it]\n",
      "100%|██████████| 40/40 [00:34<00:00,  1.15it/s]\n",
      "100%|██████████| 40/40 [00:34<00:00,  1.17it/s]\n"
     ]
    }
   ]
  },
  {
   "cell_type": "code",
   "source": [
    "def save_obs_timestep(variable, time_idx, pred_time_idx):\n",
    "    var_idx = var_to_idx[variable]\n",
    "\n",
    "    obs = ds_obs[variable].isel(time=time_idx+pred_time_idx).sel(level=850).transpose('latitude', 'longitude')\n",
    "    fig, ax = plt.subplots(figsize=(12, 8), subplot_kw={'projection': ccrs.PlateCarree()})\n",
    "    ax.coastlines()\n",
    "\n",
    "    im = obs.plot(ax=ax, add_colorbar=False, transform=ccrs.PlateCarree(), vmin=plot_mins[var_idx], vmax=plot_maxs[var_idx])\n",
    "    cbar = plt.colorbar(im, ax=ax, orientation='vertical', shrink=0.5)\n",
    "    cbar.set_label(variable)\n",
    "\n",
    "    im.colorbar.set_label(variable)\n",
    "    time = np.datetime64(\"2020-01-01T00:00:00\") + np.timedelta64(time_idx, \"D\") + 6*np.timedelta64(pred_time_idx, \"h\")\n",
    "    ax.set_title(f'Observation of {variable} on {time}')\n",
    "    fig.canvas.draw()\n",
    "    data = np.frombuffer(fig.canvas.buffer_rgba(), dtype=np.uint8)\n",
    "    data = data.reshape(fig.canvas.get_width_height()[::-1] + (4,))\n",
    "    data = cv2.cvtColor(data, cv2.COLOR_RGBA2BGR)\n",
    "    plt.close(fig)\n",
    "\n",
    "    return data\n",
    "\n",
    "\n",
    "fps = 12\n",
    "frame_size = (1920, 1080)\n",
    "for variable in [\"temperature\", \"specific_humidity\", \"u_component_of_wind\", \"v_component_of_wind\"]:\n",
    "    for time_idx in range(1):\n",
    "        os.makedirs(f'/content/drive/MyDrive/MLEarth/{variable}', exist_ok=True)\n",
    "        path = f\"/content/drive/MyDrive/MLEarth/{variable}/obs_{time_idx}\"\n",
    "        out = cv2.VideoWriter(path + '.mp4', cv2.VideoWriter_fourcc(*'mp4v'), fps, frame_size)\n",
    "        for pred_time_idx in tqdm(range(40)):\n",
    "            data = save_obs_timestep(variable, time_idx, pred_time_idx)\n",
    "            bild_resized = cv2.resize(data, frame_size)\n",
    "            cv2.imwrite(path + f'_{pred_time_idx}.png', bild_resized)\n",
    "            out.write(bild_resized)\n",
    "        out.release()"
   ],
   "metadata": {
    "id": "H0BdiL_jNHsk",
    "colab": {
     "base_uri": "https://localhost:8080/"
    },
    "outputId": "60222095-9034-46e8-bf95-1e4ac5cdf1f6"
   },
   "id": "H0BdiL_jNHsk",
   "execution_count": null,
   "outputs": [
    {
     "output_type": "stream",
     "name": "stderr",
     "text": [
      "100%|██████████| 40/40 [00:45<00:00,  1.13s/it]\n",
      "100%|██████████| 40/40 [00:42<00:00,  1.07s/it]\n",
      "100%|██████████| 40/40 [00:42<00:00,  1.06s/it]\n",
      "100%|██████████| 40/40 [00:38<00:00,  1.04it/s]\n"
     ]
    }
   ]
  },
  {
   "cell_type": "code",
   "outputs": [
    {
     "name": "stderr",
     "output_type": "stream",
     "text": [
      "6it [00:00, 28.68it/s]"
     ]
    },
    {
     "name": "stdout",
     "output_type": "stream",
     "text": [
      "0.02512383460998535 s\n",
      "0.07826614379882812 s\n",
      "0.025619983673095703 s\n",
      "0.017615795135498047 s\n",
      "0.018594026565551758 s\n",
      "0.015696048736572266 s\n",
      "0.025595903396606445 s\n"
     ]
    },
    {
     "name": "stderr",
     "output_type": "stream",
     "text": [
      "13it [00:00, 30.99it/s]"
     ]
    },
    {
     "name": "stdout",
     "output_type": "stream",
     "text": [
      "0.021821022033691406 s\n",
      "0.027203083038330078 s\n",
      "0.0256500244140625 s\n",
      "0.027915000915527344 s\n",
      "0.017615795135498047 s\n",
      "0.016192197799682617 s\n",
      "0.016563892364501953 s\n",
      "0.01656794548034668 s\n"
     ]
    },
    {
     "name": "stderr",
     "output_type": "stream",
     "text": [
      "20it [00:00, 33.09it/s]"
     ]
    },
    {
     "name": "stdout",
     "output_type": "stream",
     "text": [
      "0.016671180725097656 s\n",
      "0.01796102523803711 s\n",
      "0.019145965576171875 s\n",
      "0.01737499237060547 s\n",
      "0.01703500747680664 s\n"
     ]
    },
    {
     "name": "stderr",
     "output_type": "stream",
     "text": [
      "\n"
     ]
    }
   ],
   "source": [
    "import matplotlib.pyplot as plt\n",
    "# pip install cv2\n",
    "import cv2\n",
    "import numpy as np\n",
    "import os\n",
    "# pip install tqdm\n",
    "from tqdm import tqdm\n",
    "import time\n",
    "\n",
    "frame_size = (1920, 1080)\n",
    "fps = 12\n",
    "\n",
    "def get_frames(vars):\n",
    "    x = np.linspace(0, 100)\n",
    "    for iteration in range(20):\n",
    "        # Hier musst du deinen Code hinpacken\n",
    "        \n",
    "        # Das ist der Code, der sich \n",
    "        # Dieser Code braucht circa 0.02s bei mir\n",
    "        fig, ax = plt.subplots(1, 1, figsize=(10, 10))\n",
    "        ax.plot(x,iteration*0.1*np.sin(x))\n",
    "        fig.canvas.draw()\n",
    "        data = np.frombuffer(fig.canvas.buffer_rgba(), dtype=np.uint8)\n",
    "        data = data.reshape(fig.canvas.get_width_height()[::-1] + (4,))\n",
    "        data = cv2.cvtColor(data, cv2.COLOR_RGBA2BGR)\n",
    "        data = cv2.resize(data, frame_size)\n",
    "        plt.close(fig)\n",
    "        yield data\n",
    "\n",
    "video_path = os.path.join(os.getcwd(), 'videos')\n",
    "os.makedirs(video_path, exist_ok=True)\n",
    "out = cv2.VideoWriter(os.path.join(video_path, 'simulation.mp4'), cv2.VideoWriter_fourcc(*'mp4v'), fps, frame_size)\n",
    "\n",
    "for frame, secs in tqdm(get_frames(None)):\n",
    "    out.write(frame)\n",
    "out.release()"
   ],
   "metadata": {
    "collapsed": false,
    "ExecuteTime": {
     "end_time": "2024-05-13T20:31:19.136560Z",
     "start_time": "2024-05-13T20:31:18.525317Z"
    }
   },
   "id": "69b69c7e512c3220",
   "execution_count": 21
  },
  {
   "cell_type": "code",
   "outputs": [],
   "source": [],
   "metadata": {
    "collapsed": false
   },
   "id": "ec82ba745d42e360",
   "execution_count": null
  }
 ],
 "metadata": {
  "kernelspec": {
   "name": "python3",
   "language": "python",
   "display_name": "Python 3 (ipykernel)"
  },
  "language_info": {
   "codemirror_mode": {
    "name": "ipython",
    "version": 3
   },
   "file_extension": ".py",
   "mimetype": "text/x-python",
   "name": "python",
   "nbconvert_exporter": "python",
   "pygments_lexer": "ipython3",
   "version": "3.11.4"
  },
  "colab": {
   "provenance": []
  }
 },
 "nbformat": 4,
 "nbformat_minor": 5
}
