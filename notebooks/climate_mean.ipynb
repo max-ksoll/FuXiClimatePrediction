{
 "cells": [
  {
   "cell_type": "code",
   "execution_count": 1,
   "id": "e5553f44",
   "metadata": {},
   "outputs": [
    {
     "data": {
      "text/plain": [
       "True"
      ]
     },
     "execution_count": 1,
     "metadata": {},
     "output_type": "execute_result"
    }
   ],
   "source": [
    "import torch\n",
    "import numpy as np\n",
    "import zarr\n",
    "import os\n",
    "import pandas as pd\n",
    "import dotenv\n",
    "dotenv.load_dotenv()"
   ]
  },
  {
   "cell_type": "code",
   "execution_count": 2,
   "id": "d01de81f",
   "metadata": {},
   "outputs": [],
   "source": [
    "store = zarr.DirectoryStore(os.environ.get('DATAFOLDER'))\n",
    "sources = zarr.group(store=store)"
   ]
  },
  {
   "cell_type": "code",
   "execution_count": 3,
   "id": "1cd0362b",
   "metadata": {},
   "outputs": [],
   "source": [
    "def stunden_zu_datum(stunden_array):\n",
    "    basis_datum = pd.Timestamp('1959-01-01 00:00:00')\n",
    "    datum_array = [basis_datum + pd.Timedelta(hours=int(h)) for h in stunden_array]\n",
    "    return datum_array\n",
    "\n",
    "times = np.array(sources[\"time\"])\n",
    "times = stunden_zu_datum(times)\n",
    "\n",
    "times_gt = times >= np.datetime64(\"1993-01-01T00:00:00\")\n",
    "times_ls = times <= np.datetime64(\"2016-12-31T23:59:59\")\n",
    "times = times_gt & times_ls\n",
    "idxs = np.arange(sources[\"time\"].shape[0])[times]"
   ]
  },
  {
   "cell_type": "code",
   "execution_count": 4,
   "id": "6abc53a0",
   "metadata": {},
   "outputs": [],
   "source": [
    "#idxs = np.arange(10)\n",
    "mins = torch.Tensor(\n",
    "            [193.48901, -3.3835982e-05, -65.45247, -96.98215, -6838.8906]\n",
    ")\n",
    "maxs = torch.Tensor(\n",
    "            [324.80637, 0.029175894, 113.785934, 89.834595, 109541.625]\n",
    ")\n",
    "\n",
    "max_minus_min = maxs - mins\n",
    "mins = mins[:, None, None]\n",
    "max_minus_min = max_minus_min[:, None, None]"
   ]
  },
  {
   "cell_type": "code",
   "execution_count": 5,
   "id": "50a0d04f",
   "metadata": {},
   "outputs": [
    {
     "name": "stdout",
     "output_type": "stream",
     "text": [
      "tensor([0.1026, 0.1026, 0.1026, 0.1026, 0.1026, 0.1026, 0.1026, 0.1026, 0.1026,\n",
      "        0.1026])\n",
      "torch.Size([5, 121, 240])\n",
      "tensor([-1.4734, -1.4734, -1.4734, -1.4734, -1.4734, -1.4734, -1.4734, -1.4734,\n",
      "        -1.4734, -1.4734])\n",
      "torch.Size([5, 121, 240])\n",
      "tensor([-1.4932, -1.4937, -1.4942, -1.4947, -1.4951, -1.4956, -1.4960, -1.4964,\n",
      "        -1.4968, -1.4971])\n",
      "torch.Size([5, 121, 240])\n",
      "tensor([-1.4537, -1.4543, -1.4550, -1.4556, -1.4562, -1.4569, -1.4576, -1.4583,\n",
      "        -1.4589, -1.4596])\n",
      "torch.Size([5, 121, 240])\n",
      "tensor([1435.9841, 1435.9790, 1435.9758, 1435.9725, 1435.9675, 1435.9630,\n",
      "        1435.9596, 1435.9547, 1435.9513, 1435.9478])\n",
      "torch.Size([5, 121, 240])\n"
     ]
    }
   ],
   "source": [
    "for env_var in [\"temperature\", \"specific_humidity\", \"u_component_of_wind\", \"v_component_of_wind\",\n",
    "                         \"geopotential\"]:\n",
    "    tensor = sources[env_var][idxs]\n",
    "    tensor = torch.Tensor(np.mean(tensor[:,[0, 3, 6, 9, 12],:,:], axis=0)).permute((0,2,1))\n",
    "    tensor = (tensor - mins) / max_minus_min\n",
    "    torch.save(tensor, f'./{env_var}.pt')\n",
    "    print(tensor[0,0,:10])\n",
    "    print(tensor.shape)"
   ]
  },
  {
   "cell_type": "code",
   "execution_count": null,
   "id": "384fc3b1",
   "metadata": {},
   "outputs": [],
   "source": []
  }
 ],
 "metadata": {
  "kernelspec": {
   "display_name": "Python 3 (ipykernel)",
   "language": "python",
   "name": "python3"
  },
  "language_info": {
   "codemirror_mode": {
    "name": "ipython",
    "version": 3
   },
   "file_extension": ".py",
   "mimetype": "text/x-python",
   "name": "python",
   "nbconvert_exporter": "python",
   "pygments_lexer": "ipython3",
   "version": "3.8.10"
  }
 },
 "nbformat": 4,
 "nbformat_minor": 5
}
