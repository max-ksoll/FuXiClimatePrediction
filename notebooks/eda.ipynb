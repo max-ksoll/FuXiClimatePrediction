{
 "cells": [
  {
   "cell_type": "code",
   "execution_count": 13,
   "id": "initial_id",
   "metadata": {
    "collapsed": true,
    "ExecuteTime": {
     "end_time": "2024-04-05T19:47:22.091362Z",
     "start_time": "2024-04-05T19:47:22.083421Z"
    }
   },
   "outputs": [],
   "source": [
    "import zarr\n",
    "import pandas as pd\n",
    "import numpy as np"
   ]
  },
  {
   "cell_type": "code",
   "outputs": [],
   "source": [
    "store = zarr.DirectoryStore(\"/Users/ksoll/git/DL4WeatherAndClimate/data/era5_6hourly.zarr\")\n",
    "sources = zarr.group(store=store)"
   ],
   "metadata": {
    "collapsed": false,
    "ExecuteTime": {
     "end_time": "2024-04-05T19:47:22.103459Z",
     "start_time": "2024-04-05T19:47:22.094037Z"
    }
   },
   "id": "b704758a6f444d13",
   "execution_count": 14
  },
  {
   "cell_type": "markdown",
   "source": [
    "torch.tensor(self.sources['t'][idx_t]),\n",
    "                torch.tensor(self.sources['q'][idx_t]),\n",
    "                torch.tensor(self.sources['u'][idx_t]),\n",
    "                torch.tensor(self.sources['v'][idx_t]),\n",
    "                torch.tensor(self.sources['z'][idx_t])]"
   ],
   "metadata": {
    "collapsed": false
   },
   "id": "a9d6d941d145e65c"
  },
  {
   "cell_type": "code",
   "outputs": [
    {
     "name": "stdout",
     "output_type": "stream",
     "text": [
      "col='t' np.mean(x)=260.32513, np.std(x)=25.318968\n",
      "col='q' np.mean(x)=0.00310869, np.std(x)=0.0043341024\n",
      "col='u' np.mean(x)=4.5872235, np.std(x)=12.403501\n",
      "col='v' np.mean(x)=0.0719164, np.std(x)=8.635891\n",
      "col='z' np.mean(x)=38704.89, np.std(x)=36037.766\n"
     ]
    }
   ],
   "source": [
    "for col in ['t', 'q', 'u', 'v', 'z']:\n",
    "    x = sources[col]\n",
    "    print(f\"{col=} {np.mean(x)=}, {np.std(x)=}\")"
   ],
   "metadata": {
    "collapsed": false,
    "ExecuteTime": {
     "end_time": "2024-04-05T19:47:32.128219Z",
     "start_time": "2024-04-05T19:47:22.098232Z"
    }
   },
   "id": "5cd91aa46b5307ad",
   "execution_count": 15
  },
  {
   "cell_type": "code",
   "outputs": [
    {
     "name": "stdout",
     "output_type": "stream",
     "text": [
      "col='t' np.min(x)=193.48901, np.max(x)=324.80637\n",
      "col='q' np.min(x)=-3.3835982e-05, np.max(x)=0.029175894\n",
      "col='u' np.min(x)=-65.45247, np.max(x)=113.785934\n",
      "col='v' np.min(x)=-96.98215, np.max(x)=89.834595\n",
      "col='z' np.min(x)=-6838.8906, np.max(x)=109541.625\n"
     ]
    }
   ],
   "source": [
    "for col in ['t', 'q', 'u', 'v', 'z']:\n",
    "    x = sources[col]\n",
    "    print(f\"{col=} {np.min(x)=}, {np.max(x)=}\")"
   ],
   "metadata": {
    "collapsed": false,
    "ExecuteTime": {
     "end_time": "2024-04-05T19:47:38.500380Z",
     "start_time": "2024-04-05T19:47:32.127269Z"
    }
   },
   "id": "72fc68cbdee97c87",
   "execution_count": 16
  }
 ],
 "metadata": {
  "kernelspec": {
   "display_name": "Python 3",
   "language": "python",
   "name": "python3"
  },
  "language_info": {
   "codemirror_mode": {
    "name": "ipython",
    "version": 2
   },
   "file_extension": ".py",
   "mimetype": "text/x-python",
   "name": "python",
   "nbconvert_exporter": "python",
   "pygments_lexer": "ipython2",
   "version": "2.7.6"
  }
 },
 "nbformat": 4,
 "nbformat_minor": 5
}
